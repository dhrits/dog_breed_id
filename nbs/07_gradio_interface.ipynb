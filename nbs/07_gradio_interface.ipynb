{
 "cells": [
  {
   "cell_type": "markdown",
   "id": "d608f909-1be5-453d-bf41-33e3ca4022e0",
   "metadata": {},
   "source": [
    "# Gradio\n",
    "> This notebook the gradio code for the user interface for the application"
   ]
  },
  {
   "cell_type": "code",
   "execution_count": 14,
   "id": "b8e73871-9f94-41fd-b53d-debfcc049da5",
   "metadata": {},
   "outputs": [],
   "source": [
    "#| default_exp gradio_interface"
   ]
  },
  {
   "cell_type": "code",
   "execution_count": 15,
   "id": "ce590ef0-8dfe-42e9-9d4a-7de2c7dcdd66",
   "metadata": {},
   "outputs": [
    {
     "name": "stdout",
     "output_type": "stream",
     "text": [
      "Running on local URL:  http://127.0.0.1:7866\n",
      "\n",
      "To create a public link, set `share=True` in `launch()`.\n"
     ]
    },
    {
     "data": {
      "text/html": [
       "<div><iframe src=\"http://127.0.0.1:7866/\" width=\"100%\" height=\"500\" allow=\"autoplay; camera; microphone; clipboard-read; clipboard-write;\" frameborder=\"0\" allowfullscreen></iframe></div>"
      ],
      "text/plain": [
       "<IPython.core.display.HTML object>"
      ]
     },
     "metadata": {},
     "output_type": "display_data"
    },
    {
     "data": {
      "text/plain": []
     },
     "execution_count": 15,
     "metadata": {},
     "output_type": "execute_result"
    }
   ],
   "source": [
    "#| export\n",
    "from dog_breed_id.inference import *\n",
    "import gradio as gr\n",
    "from PIL import Image\n",
    "\n",
    "detector = DogBreedDetector('resnet50.pt', 'model-fasterrcnn.cuda.pt', 'id2labels.json', 'label2id.json')\n",
    "\n",
    "def process(img):\n",
    "    img = Image.fromarray(img)\n",
    "    preds = detector(img)\n",
    "    annotation = annotate_prediction(img, preds)\n",
    "    return annotation\n",
    "\n",
    "app = gr.Interface(fn=process, inputs=['image'], outputs=['image'], description='Take or upload the image of a dog to detect breed')\n",
    "app.launch()"
   ]
  },
  {
   "cell_type": "code",
   "execution_count": 17,
   "id": "f63af6f2-45b3-46a9-8d50-4f646bebedb7",
   "metadata": {},
   "outputs": [],
   "source": [
    "#| hide\n",
    "import nbdev; nbdev.nbdev_export()"
   ]
  },
  {
   "cell_type": "code",
   "execution_count": null,
   "id": "f53890cf-6158-4f3a-9657-00b80e576d3f",
   "metadata": {},
   "outputs": [],
   "source": []
  }
 ],
 "metadata": {
  "kernelspec": {
   "display_name": "Python 3 (ipykernel)",
   "language": "python",
   "name": "python3"
  },
  "language_info": {
   "codemirror_mode": {
    "name": "ipython",
    "version": 3
   },
   "file_extension": ".py",
   "mimetype": "text/x-python",
   "name": "python",
   "nbconvert_exporter": "python",
   "pygments_lexer": "ipython3",
   "version": "3.10.0"
  }
 },
 "nbformat": 4,
 "nbformat_minor": 5
}

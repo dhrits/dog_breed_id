{
 "cells": [
  {
   "cell_type": "markdown",
   "metadata": {},
   "source": [
    "# data_download\n",
    "\n",
    "> Used to download datasets used in this project"
   ]
  },
  {
   "cell_type": "code",
   "execution_count": 1,
   "metadata": {},
   "outputs": [],
   "source": [
    "#| default_exp data_download"
   ]
  },
  {
   "cell_type": "code",
   "execution_count": 2,
   "metadata": {},
   "outputs": [],
   "source": [
    "#| hide\n",
    "from nbdev.showdoc import *"
   ]
  },
  {
   "cell_type": "code",
   "execution_count": 3,
   "metadata": {},
   "outputs": [
    {
     "name": "stderr",
     "output_type": "stream",
     "text": [
      "/Users/deman/Dev/SpringboardCapstone/dog_breed_id/venv/lib/python3.7/site-packages/tqdm/auto.py:21: TqdmWarning: IProgress not found. Please update jupyter and ipywidgets. See https://ipywidgets.readthedocs.io/en/stable/user_install.html\n",
      "  from .autonotebook import tqdm as notebook_tqdm\n"
     ]
    }
   ],
   "source": [
    "#| export\n",
    "import requests\n",
    "import os\n",
    "from tqdm.auto import tqdm\n",
    "from pathlib import Path\n",
    "import math\n",
    "\n",
    "def download_file(url, filename=None, dirname=None):\n",
    "    \"\"\"Downloads a file at `url`\n",
    "    url - URl of file to download\n",
    "    filename[optional]- filename to save as\n",
    "    dirname[optional] - directory in which to save filename\n",
    "    \"\"\"\n",
    "    if filename is None:\n",
    "        filename = url.split(os.sep)[-1]\n",
    "    if dirname is not None:\n",
    "        Path(dirname).mkdir(parents=True, exist_ok=True)\n",
    "        filename = dirname + os.sep + filename\n",
    "    \n",
    "    if Path(filename).exists():\n",
    "        print(f\"{filename} already exists. Skipping\")\n",
    "        return\n",
    "    # Get size of the file\n",
    "    CHUNK_SIZE = 16384\n",
    "    headers = requests.head(url).headers\n",
    "    size = None\n",
    "    if headers:\n",
    "        size = headers.get('content-length', None)\n",
    "        if size is not None:\n",
    "            size = float(size)/CHUNK_SIZE\n",
    "            size = math.ceil(size)\n",
    "    with requests.get(url, stream=True) as r:\n",
    "        r.raise_for_status()\n",
    "        with open(filename, 'wb') as f:\n",
    "            for chunk in tqdm(r.iter_content(chunk_size=16384), total=size):\n",
    "                f.write(chunk)"
   ]
  },
  {
   "cell_type": "code",
   "execution_count": 6,
   "metadata": {},
   "outputs": [],
   "source": [
    "# Run cell below to download Stanford Dogs data\n",
    "STANFORD_DOGS_IMAGE_URL = 'http://vision.stanford.edu/aditya86/ImageNetDogs/images.tar'\n",
    "STANFORD_DOGS_ANNOTATIONS_URL = 'http://vision.stanford.edu/aditya86/ImageNetDogs/annotation.tar'\n",
    "STANFORD_DOGS_SPLITS_URL = 'http://vision.stanford.edu/aditya86/ImageNetDogs/lists.tar'"
   ]
  },
  {
   "cell_type": "code",
   "execution_count": 7,
   "metadata": {},
   "outputs": [
    {
     "name": "stderr",
     "output_type": "stream",
     "text": [
      "100%|████████████████████████████████████████████████████████████████████████████████████████████████████████████████████████████| 48437/48437 [01:55<00:00, 420.85it/s]\n"
     ]
    }
   ],
   "source": [
    "download_file(STANFORD_DOGS_IMAGE_URL, dirname='../stanford_dogs')"
   ]
  },
  {
   "cell_type": "code",
   "execution_count": 8,
   "metadata": {},
   "outputs": [
    {
     "name": "stderr",
     "output_type": "stream",
     "text": [
      "100%|██████████████████████████████████████████████████████████████████████████████████████████████████████████████████████████████| 1334/1334 [00:06<00:00, 213.70it/s]\n"
     ]
    }
   ],
   "source": [
    "download_file(STANFORD_DOGS_ANNOTATIONS_URL, dirname='../stanford_dogs')"
   ]
  },
  {
   "cell_type": "code",
   "execution_count": 9,
   "metadata": {},
   "outputs": [
    {
     "name": "stderr",
     "output_type": "stream",
     "text": [
      "100%|███████████████████████████████████████████████████████████████████████████████████████████████████████████████████████████████████| 30/30 [00:01<00:00, 27.19it/s]\n"
     ]
    }
   ],
   "source": [
    "download_file(STANFORD_DOGS_SPLITS_URL, dirname='../stanford_dogs')"
   ]
  },
  {
   "cell_type": "code",
   "execution_count": null,
   "metadata": {},
   "outputs": [],
   "source": [
    "# Run cell below to download Tsinghua Dogs Dataset\n",
    "TSINGHUA_DOGS_LOW_RES_IMAGES_URL = 'https://cloud.tsinghua.edu.cn/f/80013ef29c5f42728fc8/?dl=1'\n",
    "TSINGHUA_DOGS_LOW_RES_ANNOTATIONS_URL = 'https://cg.cs.tsinghua.edu.cn/ThuDogs/low-annotations.zip'"
   ]
  },
  {
   "cell_type": "code",
   "execution_count": null,
   "metadata": {},
   "outputs": [],
   "source": [
    "download_file(TSINGHUA_DOGS_LOW_RES_IMAGES_URL, filename='low-resolution.zip', dirname='../tsinghua_dogs')"
   ]
  },
  {
   "cell_type": "code",
   "execution_count": null,
   "metadata": {},
   "outputs": [],
   "source": [
    "download_file(TSINGHUA_DOGS_LOW_RES_ANNOTATIONS_URL, dirname='tsinghua_dogs')"
   ]
  },
  {
   "cell_type": "code",
   "execution_count": 4,
   "metadata": {},
   "outputs": [],
   "source": [
    "#| hide\n",
    "import nbdev; nbdev.nbdev_export()"
   ]
  },
  {
   "cell_type": "code",
   "execution_count": null,
   "metadata": {},
   "outputs": [],
   "source": []
  }
 ],
 "metadata": {
  "kernelspec": {
   "display_name": "Python 3 (ipykernel)",
   "language": "python",
   "name": "python3"
  },
  "language_info": {
   "codemirror_mode": {
    "name": "ipython",
    "version": 3
   },
   "file_extension": ".py",
   "mimetype": "text/x-python",
   "name": "python",
   "nbconvert_exporter": "python",
   "pygments_lexer": "ipython3",
   "version": "3.7.3"
  }
 },
 "nbformat": 4,
 "nbformat_minor": 4
}

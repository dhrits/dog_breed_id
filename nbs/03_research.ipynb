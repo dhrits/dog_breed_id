{
 "cells": [
  {
   "cell_type": "markdown",
   "id": "40634042-cc6b-4333-814c-99220a327678",
   "metadata": {},
   "source": [
    "# research\n",
    "\n",
    "> This notebook contains code for exploring existing research"
   ]
  },
  {
   "cell_type": "code",
   "execution_count": 18,
   "id": "f3e6eca0-99b1-4cce-83d2-2927a6d916d4",
   "metadata": {},
   "outputs": [],
   "source": [
    "#| default_exp research?"
   ]
  },
  {
   "cell_type": "code",
   "execution_count": 19,
   "id": "7f995f03-059b-4b70-8e65-f887065aef55",
   "metadata": {},
   "outputs": [],
   "source": [
    "#| hide\n",
    "from nbdev.showdoc import *"
   ]
  },
  {
   "cell_type": "markdown",
   "id": "ceab48f2-9c37-4033-9dc1-d0792e61b474",
   "metadata": {},
   "source": [
    "# Survey of Existing Research\n",
    "This notebook contains a survey of existing research of methods to do object detection and classification."
   ]
  },
  {
   "cell_type": "markdown",
   "id": "5210ad57-2434-4898-8124-fdcd8a2b67db",
   "metadata": {},
   "source": [
    "## Building a subset of the data"
   ]
  },
  {
   "cell_type": "code",
   "execution_count": 20,
   "id": "72b3402a-865d-4ec5-94a2-b03960efd419",
   "metadata": {
    "scrolled": true
   },
   "outputs": [
    {
     "name": "stdout",
     "output_type": "stream",
     "text": [
      "Obtaining file:///Users/deman/Dev/SpringboardCapstone/dog_breed_id\n",
      "  Preparing metadata (setup.py) ... \u001b[?25ldone\n",
      "\u001b[?25hInstalling collected packages: dog_breed_id\n",
      "  Attempting uninstall: dog_breed_id\n",
      "    Found existing installation: dog_breed_id 0.0.1\n",
      "    Uninstalling dog_breed_id-0.0.1:\n",
      "      Successfully uninstalled dog_breed_id-0.0.1\n",
      "  Running setup.py develop for dog_breed_id\n",
      "Successfully installed dog_breed_id-0.0.1\n"
     ]
    }
   ],
   "source": [
    "!pip install -e ../"
   ]
  },
  {
   "cell_type": "code",
   "execution_count": 21,
   "id": "f89f7502-35ef-4ded-a1f2-d3f27c5e7162",
   "metadata": {},
   "outputs": [],
   "source": [
    "from dog_breed_id.data_preprocessing import read_csv_with_array_columns"
   ]
  },
  {
   "cell_type": "code",
   "execution_count": 22,
   "id": "4af65f75-1648-43f0-9962-e655e4f6af63",
   "metadata": {},
   "outputs": [],
   "source": [
    "#| export\n",
    "import cv2\n",
    "from pathlib import Path\n",
    "from PIL import Image\n",
    "import pandas as pd\n",
    "import numpy as np\n",
    "import glob\n",
    "import os\n",
    "from matplotlib import pyplot as plt\n",
    "from miniai.datasets import show_images\n",
    "import shutil"
   ]
  },
  {
   "cell_type": "code",
   "execution_count": 23,
   "id": "115dca96-05a3-4a95-b8a5-3b361b0c6648",
   "metadata": {},
   "outputs": [],
   "source": [
    "df = read_csv_with_array_columns('../data/dogs.csv', ['bboxes'])\n",
    "subset = df.sample(frac=0.1)\n",
    "\n",
    "def copy_files(path):\n",
    "    target_path = str(path).replace('data', 'datasubset')\n",
    "    folder = Path(target_path).parent\n",
    "    folder.mkdir(exist_ok=True, parents=True)\n",
    "    shutil.copy(path, target_path)\n",
    "    return"
   ]
  },
  {
   "cell_type": "code",
   "execution_count": 27,
   "id": "13094ec2-773d-48d1-a017-38786b678737",
   "metadata": {},
   "outputs": [],
   "source": [
    "if not Path('../datasubset').exists():\n",
    "    subset['image'].apply(copy_files)\n",
    "    subset.to_csv('../datasubset/dogs.csv')"
   ]
  },
  {
   "cell_type": "markdown",
   "id": "763f2439-6df7-46c8-b3e6-495e16f7fd20",
   "metadata": {},
   "source": [
    "## Mask RCNN\n",
    "Mask RCNN is from the RCNN family of object detectors. Add more here"
   ]
  },
  {
   "cell_type": "code",
   "execution_count": 16,
   "id": "0ee44532-2d91-475d-8da7-a6d7cc9eca8e",
   "metadata": {},
   "outputs": [],
   "source": [
    "#| export\n",
    "import torch\n",
    "import torchvision\n",
    "from torch import nn\n",
    "from torch.utils.data import Dataset, DataLoader\n",
    "from torchvision.transforms import functional as F"
   ]
  },
  {
   "cell_type": "code",
   "execution_count": 28,
   "id": "9abd6552-5201-41ed-bce8-2bebe6bf9e09",
   "metadata": {},
   "outputs": [],
   "source": [
    "#| hide\n",
    "import nbdev; nbdev.nbdev_export()"
   ]
  },
  {
   "cell_type": "code",
   "execution_count": null,
   "id": "2af9f676-9e76-464f-93df-639c17a4a3f8",
   "metadata": {},
   "outputs": [],
   "source": []
  }
 ],
 "metadata": {
  "kernelspec": {
   "display_name": "Python 3 (ipykernel)",
   "language": "python",
   "name": "python3"
  },
  "language_info": {
   "codemirror_mode": {
    "name": "ipython",
    "version": 3
   },
   "file_extension": ".py",
   "mimetype": "text/x-python",
   "name": "python",
   "nbconvert_exporter": "python",
   "pygments_lexer": "ipython3",
   "version": "3.10.0"
  }
 },
 "nbformat": 4,
 "nbformat_minor": 5
}

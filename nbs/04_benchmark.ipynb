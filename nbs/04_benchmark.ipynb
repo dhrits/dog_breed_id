{
 "cells": [
  {
   "cell_type": "markdown",
   "id": "6bd9816f-4789-4582-a057-f5fe9992c763",
   "metadata": {},
   "source": [
    "## Benchmarks"
   ]
  },
  {
   "cell_type": "markdown",
   "id": "d5ee603f-1680-420e-b3f6-a519d8ea26db",
   "metadata": {},
   "source": [
    "> This notebook contains code for training a small benchmark and exploring performance before moving on to the whole dataset. It also does some very basic hyperparameter exploration given the size of the dataset and the models used."
   ]
  },
  {
   "cell_type": "code",
   "execution_count": 1,
   "id": "2da48e51-1ced-4ef1-a269-7efa6756923c",
   "metadata": {},
   "outputs": [],
   "source": [
    "#| default_exp benchmark"
   ]
  },
  {
   "cell_type": "code",
   "execution_count": 71,
   "id": "f51b3284-65db-4105-845b-d2b898970cfb",
   "metadata": {},
   "outputs": [
    {
     "name": "stdout",
     "output_type": "stream",
     "text": [
      "Obtaining file:///Users/dhritimansagar/Dev/dog_breed_id\n",
      "  Preparing metadata (setup.py) ... \u001b[?25ldone\n",
      "\u001b[?25hInstalling collected packages: dog_breed_id\n",
      "  Attempting uninstall: dog_breed_id\n",
      "    Found existing installation: dog_breed_id 0.0.1\n",
      "    Uninstalling dog_breed_id-0.0.1:\n",
      "      Successfully uninstalled dog_breed_id-0.0.1\n",
      "  Running setup.py develop for dog_breed_id\n",
      "Successfully installed dog_breed_id-0.0.1\n"
     ]
    }
   ],
   "source": [
    "!pip install -e ../"
   ]
  },
  {
   "cell_type": "code",
   "execution_count": 2,
   "id": "7ddb5002-3cb9-4f95-841a-aa8934f45036",
   "metadata": {},
   "outputs": [
    {
     "name": "stderr",
     "output_type": "stream",
     "text": [
      "/Users/dhritimansagar/Dev/dog_breed_id/venv31013/lib/python3.10/site-packages/tqdm/auto.py:21: TqdmWarning: IProgress not found. Please update jupyter and ipywidgets. See https://ipywidgets.readthedocs.io/en/stable/user_install.html\n",
      "  from .autonotebook import tqdm as notebook_tqdm\n"
     ]
    }
   ],
   "source": [
    "#| export\n",
    "from dog_breed_id.data_preprocessing import read_csv_with_array_columns\n",
    "from dog_breed_id.research import get_classes_from_frame\n",
    "from miniai.learner import *\n",
    "from miniai.init import *\n",
    "from miniai.activations import *\n",
    "from miniai.datasets import show_images\n",
    "\n",
    "import cv2\n",
    "import fastcore.all as fc\n",
    "from pathlib import Path\n",
    "from PIL import Image\n",
    "import pandas as pd\n",
    "import numpy as np\n",
    "import glob\n",
    "import os\n",
    "from matplotlib import pyplot as plt\n",
    "\n",
    "import shutil\n",
    "import torch\n",
    "import torchvision\n",
    "from torch import nn\n",
    "from torch.utils.data import Dataset, DataLoader\n",
    "from torchvision.transforms import functional as F\n",
    "from torcheval.metrics import MulticlassAccuracy\n",
    "from sklearn.model_selection import train_test_split\n",
    "import timm"
   ]
  },
  {
   "cell_type": "code",
   "execution_count": 73,
   "id": "53e4d030-3441-4f94-866b-8b17af272520",
   "metadata": {},
   "outputs": [],
   "source": [
    "df = read_csv_with_array_columns('../data/dogs.csv', ['bboxes'])"
   ]
  },
  {
   "cell_type": "code",
   "execution_count": 74,
   "id": "1a26b470-0471-4135-82a9-df35dfe64947",
   "metadata": {},
   "outputs": [],
   "source": [
    "#| export\n",
    "def get_id_mappings(df, include_background=True):\n",
    "    classes = get_classes_from_frame(df, include_background=include_background)\n",
    "    label2id = {label: i for i, label in enumerate(classes)}\n",
    "    id2label = {i: label for i, label in enumerate(classes)}\n",
    "    return label2id, id2label\n",
    "\n",
    "def get_class_weights(df, label2id):\n",
    "    weights = 1./df['category'].value_counts(normalize=True)\n",
    "    weights = weights/weights.sum()\n",
    "    keys = [label2id[l] for l in weights.index]\n",
    "    order = np.argsort(keys)\n",
    "    return torch.tensor(weights.values[order])"
   ]
  },
  {
   "cell_type": "code",
   "execution_count": 75,
   "id": "e4cffc3c-98de-4fd8-a771-1abd3dad59c0",
   "metadata": {},
   "outputs": [],
   "source": [
    "label2id, id2label = get_id_mappings(df, include_background=False)\n",
    "weights = get_class_weights(df, label2id)"
   ]
  },
  {
   "cell_type": "code",
   "execution_count": 76,
   "id": "c63db57e-4549-46aa-a763-b339ad3e0b25",
   "metadata": {},
   "outputs": [],
   "source": [
    "# order = np.argsort(keys)\n",
    "# print(weights.loc['schipperke'])\n",
    "# print(weights.loc['australian_shepherd'])\n",
    "# weights.values[order]"
   ]
  },
  {
   "cell_type": "code",
   "execution_count": 77,
   "id": "f142b04c-e318-4c2f-adf2-af040f946d81",
   "metadata": {},
   "outputs": [],
   "source": [
    "#| export\n",
    "def get_data_subsets(df, cache_path='../data', recreate=False):\n",
    "    Path(cache_path).mkdir(parents=True, exist_ok=True)\n",
    "    if not Path('../data/train.csv').exists() or recreate:\n",
    "        train_subset, valid_subset = train_test_split(df, train_size=0.1, test_size=0.01, stratify=df['category'])\n",
    "        valid_subset, test_subset = train_test_split(valid_subset, train_size=0.5, test_size=0.5)\n",
    "        train_subset.to_csv('../data/train.csv')\n",
    "        valid_subset.to_csv('../data/valid.csv')\n",
    "        test_subset.to_csv('../data/test.csv')\n",
    "    else:\n",
    "        print('Cached files found, reading from disk')\n",
    "        train_subset = read_csv_with_array_columns('../data/train.csv', ['bboxes'])\n",
    "        valid_subset = read_csv_with_array_columns('../data/valid.csv', ['bboxes'])\n",
    "        test_subset = read_csv_with_array_columns('../data/test.csv', ['bboxes'])\n",
    "    return train_subset, valid_subset, test_subset"
   ]
  },
  {
   "cell_type": "code",
   "execution_count": 78,
   "id": "beb9e8b6-e0f3-44b5-90b4-880f267c02c9",
   "metadata": {},
   "outputs": [
    {
     "name": "stdout",
     "output_type": "stream",
     "text": [
      "Cached files found, reading from disk\n"
     ]
    }
   ],
   "source": [
    "train_subset, valid_subset, test_subset = get_data_subsets(df)"
   ]
  },
  {
   "cell_type": "code",
   "execution_count": 79,
   "id": "5844fbff-8efc-47a6-9942-ba772b6002f4",
   "metadata": {},
   "outputs": [],
   "source": [
    "#| export\n",
    "\n",
    "class DogBreedClassificationDataset(Dataset):\n",
    "    def __init__(self, df, label2id, id2label, transforms=None):\n",
    "        super(DogBreedClassificationDataset, self).__init__()\n",
    "        self.df = df\n",
    "        if not transforms:\n",
    "            self.transforms = torchvision.transforms.Compose([\n",
    "                torchvision.transforms.ToTensor(),\n",
    "                torchvision.transforms.Normalize(mean=[0.485, 0.456, 0.406], std=[0.229, 0.224, 0.225])\n",
    "            ])\n",
    "        else:\n",
    "            self.transforms = transforms\n",
    "        self.label2id, self.id2label = label2id, id2label\n",
    "    \n",
    "    def __len__(self):\n",
    "        return self.df.shape[0]\n",
    "\n",
    "    def __getitem__(self, idx):\n",
    "        item = self.df.iloc[idx]\n",
    "        img = Image.open(item.image)\n",
    "        tensor = self.transforms(img)\n",
    "        label = self.label2id[item['category']]\n",
    "        return tensor, label\n",
    "\n",
    "TRAIN_TRANSFORMS = torchvision.transforms.Compose([\n",
    "    torchvision.transforms.Resize((256, 256)),\n",
    "    torchvision.transforms.RandomHorizontalFlip(),\n",
    "    torchvision.transforms.ColorJitter(0.5, 0.5, 0.5),\n",
    "    torchvision.transforms.ToTensor(),\n",
    "    torchvision.transforms.RandomErasing(p=0.1),\n",
    "    torchvision.transforms.Normalize(mean=[0.485, 0.456, 0.406], std=[0.229, 0.224, 0.225])\n",
    "])\n",
    "VALID_TRANSFORMS = torchvision.transforms.Compose([\n",
    "    torchvision.transforms.Resize((256, 256)),\n",
    "    torchvision.transforms.ToTensor(),\n",
    "    torchvision.transforms.Normalize(mean=[0.485, 0.456, 0.406], std=[0.229, 0.224, 0.225])\n",
    "])"
   ]
  },
  {
   "cell_type": "code",
   "execution_count": 80,
   "id": "886c14a6-e7a6-443c-9772-e61790cd71a1",
   "metadata": {},
   "outputs": [],
   "source": [
    "train_ds = DogBreedClassificationDataset(train_subset, label2id, id2label, TRAIN_TRANSFORMS)\n",
    "train_dl = torch.utils.data.DataLoader(train_ds, batch_size=128)\n",
    "\n",
    "valid_ds = DogBreedClassificationDataset(valid_subset, label2id, id2label, VALID_TRANSFORMS)\n",
    "valid_dl = torch.utils.data.DataLoader(valid_ds, batch_size=128)\n",
    "\n",
    "test_ds = DogBreedClassificationDataset(test_subset, label2id, id2label, VALID_TRANSFORMS)\n",
    "test_dl = torch.utils.data.DataLoader(test_ds, batch_size=128)"
   ]
  },
  {
   "cell_type": "code",
   "execution_count": 81,
   "id": "61e8901d-7bd6-4481-8274-1f7e207ec2b8",
   "metadata": {},
   "outputs": [],
   "source": [
    "#| export\n",
    "from functools import partial\n",
    "iw = partial(init_weights, leaky=0.1)\n",
    "def freeze_weights(p):\n",
    "    p.requires_grad_(False)\n",
    "\n",
    "def init_model(model, initialize=False, freeze_backbone=False):\n",
    "    if initialize:\n",
    "        model.apply(iw)\n",
    "    if freeze_backbone:\n",
    "        model.apply(freeze_weights)\n",
    "    if hasattr(model, 'fc'):\n",
    "        model.fc.requires_grad_(True)\n",
    "    elif hasattr(model, 'head') and hasattr(model.head, 'fc'):\n",
    "        model.head.requires_grad_(True)"
   ]
  },
  {
   "cell_type": "code",
   "execution_count": 82,
   "id": "a56db371-ecc4-45f3-9ffa-ac520e4e75aa",
   "metadata": {},
   "outputs": [],
   "source": [
    "astats = ActivationStats(fc.risinstance(torch.nn.ReLU))\n",
    "metrics = MetricsCB(accuracy=MulticlassAccuracy())\n",
    "cbs = [DeviceCB(), metrics, ProgressCB(plot=True), astats]"
   ]
  },
  {
   "cell_type": "code",
   "execution_count": 83,
   "id": "431d16bb-45cc-449b-b2ac-00c62fdde5ed",
   "metadata": {},
   "outputs": [],
   "source": [
    "#| export\n",
    "from collections import namedtuple\n",
    "\n",
    "DataLoaders = namedtuple('DataLoaders', ['train', 'valid'])"
   ]
  },
  {
   "cell_type": "code",
   "execution_count": 84,
   "id": "bf5ccaff-3d8e-49d3-8886-adebc17931b1",
   "metadata": {},
   "outputs": [],
   "source": [
    "dls = DataLoaders(train_dl, valid_dl)"
   ]
  },
  {
   "cell_type": "code",
   "execution_count": 85,
   "id": "99f13fd9-7ff3-4ab2-8a18-fcf406468937",
   "metadata": {},
   "outputs": [],
   "source": [
    "#| export\n",
    "class RegularizerCB(Callback):\n",
    "    def __init__(self, alpha=0.01): fc.store_attr()\n",
    "    \n",
    "    def after_loss(self, learn):\n",
    "        param_sum = sum([(p**2).sum() for p in learn.model.parameters()])\n",
    "        param_sum *= self.alpha\n",
    "        learn.loss += param_sum"
   ]
  },
  {
   "cell_type": "markdown",
   "id": "8aadb792-8e49-4d3e-a3dd-22812d51c7cb",
   "metadata": {},
   "source": [
    "## Exploring ResNet"
   ]
  },
  {
   "cell_type": "markdown",
   "id": "04ba82eb-82a4-4fb6-a87f-6aaa7ed4adfc",
   "metadata": {},
   "source": []
  },
  {
   "cell_type": "markdown",
   "id": "54389874-6a5a-4b2a-9e34-f3a0d65a56a3",
   "metadata": {},
   "source": [
    "**Learning Rate Finders** were first explored in the paper [Cyclical Learning Rates for Training Neural Networks](https://arxiv.org/abs/1506.01186). It is a technique which slowly increases the learning rate exponentially till the loss explodes. By observing a plot of the loss against the various learning rates, we can find the **best possible learning rates to use** for model training."
   ]
  },
  {
   "cell_type": "code",
   "execution_count": 12,
   "id": "8af012c3-2908-40c6-9a96-d684c15c9d38",
   "metadata": {},
   "outputs": [
    {
     "data": {
      "image/png": "[encoded data removed]",
      "text/plain": [
       "<Figure size 640x480 with 1 Axes>"
      ]
     },
     "metadata": {},
     "output_type": "display_data"
    }
   ],
   "source": [
    "model = timm.create_model('resnet50', pretrained=True, num_classes=137)\n",
    "init_model(model)\n",
    "TrainLearner(model, dls=dls, loss_func=torch.nn.CrossEntropyLoss(), cbs=DeviceCB(), opt_func=torch.optim.Adam).lr_find()"
   ]
  },
  {
   "cell_type": "markdown",
   "id": "9890c0dd-5d1c-4979-98ef-cff1eb2ec052",
   "metadata": {},
   "source": [
    "So a learning rate of ~1e-3 seems appropriate for the task."
   ]
  },
  {
   "cell_type": "code",
   "execution_count": 16,
   "id": "b258e655-6a45-40e7-9721-17fd98b1a5e8",
   "metadata": {},
   "outputs": [],
   "source": [
    "model = timm.create_model('resnet50', pretrained=True, num_classes=137)\n",
    "init_model(model, initialize=False, freeze_backbone=False)\n",
    "learner = TrainLearner(model, dls=dls, loss_func=torch.nn.CrossEntropyLoss(), cbs=cbs, opt_func=torch.optim.Adam)"
   ]
  },
  {
   "cell_type": "code",
   "execution_count": 17,
   "id": "aeb7db66-e767-4fea-8626-9ebad6e6db5e",
   "metadata": {},
   "outputs": [
    {
     "data": {
      "text/html": [
       "\n",
       "<style>\n",
       "    /* Turns off some styling */\n",
       "    progress {\n",
       "        /* gets rid of default border in Firefox and Opera. */\n",
       "        border: none;\n",
       "        /* Needs to be in here for Safari polyfill so background images work as expected. */\n",
       "        background-size: auto;\n",
       "    }\n",
       "    progress:not([value]), progress:not([value])::-webkit-progress-bar {\n",
       "        background: repeating-linear-gradient(45deg, #7e7e7e, #7e7e7e 10px, #5c5c5c 10px, #5c5c5c 20px);\n",
       "    }\n",
       "    .progress-bar-interrupted, .progress-bar-interrupted::-webkit-progress-bar {\n",
       "        background: #F44336;\n",
       "    }\n",
       "</style>\n"
      ],
      "text/plain": [
       "<IPython.core.display.HTML object>"
      ]
     },
     "metadata": {},
     "output_type": "display_data"
    },
    {
     "data": {
      "text/html": [
       "<table border=\"1\" class=\"dataframe\">\n",
       "  <thead>\n",
       "    <tr style=\"text-align: left;\">\n",
       "      <th>accuracy</th>\n",
       "      <th>loss</th>\n",
       "      <th>epoch</th>\n",
       "      <th>train</th>\n",
       "    </tr>\n",
       "  </thead>\n",
       "  <tbody>\n",
       "    <tr>\n",
       "      <td>0.398</td>\n",
       "      <td>2.673</td>\n",
       "      <td>0</td>\n",
       "      <td>train</td>\n",
       "    </tr>\n",
       "    <tr>\n",
       "      <td>0.736</td>\n",
       "      <td>1.029</td>\n",
       "      <td>0</td>\n",
       "      <td>eval</td>\n",
       "    </tr>\n",
       "    <tr>\n",
       "      <td>0.759</td>\n",
       "      <td>0.800</td>\n",
       "      <td>1</td>\n",
       "      <td>train</td>\n",
       "    </tr>\n",
       "    <tr>\n",
       "      <td>0.782</td>\n",
       "      <td>0.720</td>\n",
       "      <td>1</td>\n",
       "      <td>eval</td>\n",
       "    </tr>\n",
       "    <tr>\n",
       "      <td>0.843</td>\n",
       "      <td>0.493</td>\n",
       "      <td>2</td>\n",
       "      <td>train</td>\n",
       "    </tr>\n",
       "    <tr>\n",
       "      <td>0.798</td>\n",
       "      <td>0.744</td>\n",
       "      <td>2</td>\n",
       "      <td>eval</td>\n",
       "    </tr>\n",
       "    <tr>\n",
       "      <td>0.895</td>\n",
       "      <td>0.328</td>\n",
       "      <td>3</td>\n",
       "      <td>train</td>\n",
       "    </tr>\n",
       "    <tr>\n",
       "      <td>0.793</td>\n",
       "      <td>0.706</td>\n",
       "      <td>3</td>\n",
       "      <td>eval</td>\n",
       "    </tr>\n",
       "  </tbody>\n",
       "</table>"
      ],
      "text/plain": [
       "<IPython.core.display.HTML object>"
      ]
     },
     "metadata": {},
     "output_type": "display_data"
    },
    {
     "data": {
      "image/png": "[encoded data removed]",
      "text/plain": [
       "<Figure size 600x400 with 1 Axes>"
      ]
     },
     "metadata": {},
     "output_type": "display_data"
    }
   ],
   "source": [
    "learner.fit(n_epochs=4, lr=0.001)"
   ]
  },
  {
   "cell_type": "code",
   "execution_count": 18,
   "id": "fe7b5e7d-999c-4150-8856-992f3201dfa4",
   "metadata": {},
   "outputs": [],
   "source": [
    "torch.save(model.state_dict(), 'resnet50_4e.pt')"
   ]
  },
  {
   "cell_type": "markdown",
   "id": "31384cf6-a103-4ce6-b500-af3335fe8d2c",
   "metadata": {},
   "source": [
    "As expected, on the small dataset, the model **overfits** to the training data and achieves an accuracy of 89% in only 4 epochs. Lets **add regularization** now and try simpler models."
   ]
  },
  {
   "cell_type": "code",
   "execution_count": 17,
   "id": "5ef291a8-e40e-432b-bef7-0fcfed363546",
   "metadata": {},
   "outputs": [],
   "source": [
    "model = timm.create_model('resnet50', pretrained=True, num_classes=137)\n",
    "init_model(model, initialize=False, freeze_backbone=False)\n",
    "learner = TrainLearner(model, dls=dls, loss_func=torch.nn.CrossEntropyLoss(), cbs=cbs+[RegularizerCB(alpha=5e-5)], opt_func=torch.optim.Adam)"
   ]
  },
  {
   "cell_type": "code",
   "execution_count": 22,
   "id": "e68a0458-2387-43fa-81bd-203c7c1a9c27",
   "metadata": {},
   "outputs": [
    {
     "data": {
      "text/html": [
       "\n",
       "<style>\n",
       "    /* Turns off some styling */\n",
       "    progress {\n",
       "        /* gets rid of default border in Firefox and Opera. */\n",
       "        border: none;\n",
       "        /* Needs to be in here for Safari polyfill so background images work as expected. */\n",
       "        background-size: auto;\n",
       "    }\n",
       "    progress:not([value]), progress:not([value])::-webkit-progress-bar {\n",
       "        background: repeating-linear-gradient(45deg, #7e7e7e, #7e7e7e 10px, #5c5c5c 10px, #5c5c5c 20px);\n",
       "    }\n",
       "    .progress-bar-interrupted, .progress-bar-interrupted::-webkit-progress-bar {\n",
       "        background: #F44336;\n",
       "    }\n",
       "</style>\n"
      ],
      "text/plain": [
       "<IPython.core.display.HTML object>"
      ]
     },
     "metadata": {},
     "output_type": "display_data"
    },
    {
     "data": {
      "text/html": [
       "<table border=\"1\" class=\"dataframe\">\n",
       "  <thead>\n",
       "    <tr style=\"text-align: left;\">\n",
       "      <th>accuracy</th>\n",
       "      <th>loss</th>\n",
       "      <th>epoch</th>\n",
       "      <th>train</th>\n",
       "    </tr>\n",
       "  </thead>\n",
       "  <tbody>\n",
       "    <tr>\n",
       "      <td>0.387</td>\n",
       "      <td>55.359</td>\n",
       "      <td>0</td>\n",
       "      <td>train</td>\n",
       "    </tr>\n",
       "    <tr>\n",
       "      <td>0.732</td>\n",
       "      <td>47.563</td>\n",
       "      <td>0</td>\n",
       "      <td>eval</td>\n",
       "    </tr>\n",
       "    <tr>\n",
       "      <td>0.760</td>\n",
       "      <td>43.354</td>\n",
       "      <td>1</td>\n",
       "      <td>train</td>\n",
       "    </tr>\n",
       "    <tr>\n",
       "      <td>0.756</td>\n",
       "      <td>39.714</td>\n",
       "      <td>1</td>\n",
       "      <td>eval</td>\n",
       "    </tr>\n",
       "    <tr>\n",
       "      <td>0.833</td>\n",
       "      <td>36.608</td>\n",
       "      <td>2</td>\n",
       "      <td>train</td>\n",
       "    </tr>\n",
       "    <tr>\n",
       "      <td>0.745</td>\n",
       "      <td>34.355</td>\n",
       "      <td>2</td>\n",
       "      <td>eval</td>\n",
       "    </tr>\n",
       "    <tr>\n",
       "      <td>0.879</td>\n",
       "      <td>31.765</td>\n",
       "      <td>3</td>\n",
       "      <td>train</td>\n",
       "    </tr>\n",
       "    <tr>\n",
       "      <td>0.767</td>\n",
       "      <td>30.274</td>\n",
       "      <td>3</td>\n",
       "      <td>eval</td>\n",
       "    </tr>\n",
       "    <tr>\n",
       "      <td>0.912</td>\n",
       "      <td>28.061</td>\n",
       "      <td>4</td>\n",
       "      <td>train</td>\n",
       "    </tr>\n",
       "    <tr>\n",
       "      <td>0.705</td>\n",
       "      <td>27.345</td>\n",
       "      <td>4</td>\n",
       "      <td>eval</td>\n",
       "    </tr>\n",
       "    <tr>\n",
       "      <td>0.917</td>\n",
       "      <td>25.203</td>\n",
       "      <td>5</td>\n",
       "      <td>train</td>\n",
       "    </tr>\n",
       "    <tr>\n",
       "      <td>0.710</td>\n",
       "      <td>24.829</td>\n",
       "      <td>5</td>\n",
       "      <td>eval</td>\n",
       "    </tr>\n",
       "    <tr>\n",
       "      <td>0.926</td>\n",
       "      <td>22.928</td>\n",
       "      <td>6</td>\n",
       "      <td>train</td>\n",
       "    </tr>\n",
       "    <tr>\n",
       "      <td>0.637</td>\n",
       "      <td>23.284</td>\n",
       "      <td>6</td>\n",
       "      <td>eval</td>\n",
       "    </tr>\n",
       "    <tr>\n",
       "      <td>0.925</td>\n",
       "      <td>21.116</td>\n",
       "      <td>7</td>\n",
       "      <td>train</td>\n",
       "    </tr>\n",
       "    <tr>\n",
       "      <td>0.701</td>\n",
       "      <td>21.283</td>\n",
       "      <td>7</td>\n",
       "      <td>eval</td>\n",
       "    </tr>\n",
       "    <tr>\n",
       "      <td>0.927</td>\n",
       "      <td>19.590</td>\n",
       "      <td>8</td>\n",
       "      <td>train</td>\n",
       "    </tr>\n",
       "    <tr>\n",
       "      <td>0.688</td>\n",
       "      <td>19.960</td>\n",
       "      <td>8</td>\n",
       "      <td>eval</td>\n",
       "    </tr>\n",
       "    <tr>\n",
       "      <td>0.916</td>\n",
       "      <td>18.389</td>\n",
       "      <td>9</td>\n",
       "      <td>train</td>\n",
       "    </tr>\n",
       "    <tr>\n",
       "      <td>0.703</td>\n",
       "      <td>18.752</td>\n",
       "      <td>9</td>\n",
       "      <td>eval</td>\n",
       "    </tr>\n",
       "    <tr>\n",
       "      <td>0.929</td>\n",
       "      <td>17.281</td>\n",
       "      <td>10</td>\n",
       "      <td>train</td>\n",
       "    </tr>\n",
       "    <tr>\n",
       "      <td>0.703</td>\n",
       "      <td>17.817</td>\n",
       "      <td>10</td>\n",
       "      <td>eval</td>\n",
       "    </tr>\n",
       "    <tr>\n",
       "      <td>0.941</td>\n",
       "      <td>16.282</td>\n",
       "      <td>11</td>\n",
       "      <td>train</td>\n",
       "    </tr>\n",
       "    <tr>\n",
       "      <td>0.699</td>\n",
       "      <td>16.883</td>\n",
       "      <td>11</td>\n",
       "      <td>eval</td>\n",
       "    </tr>\n",
       "    <tr>\n",
       "      <td>0.949</td>\n",
       "      <td>15.389</td>\n",
       "      <td>12</td>\n",
       "      <td>train</td>\n",
       "    </tr>\n",
       "    <tr>\n",
       "      <td>0.681</td>\n",
       "      <td>16.082</td>\n",
       "      <td>12</td>\n",
       "      <td>eval</td>\n",
       "    </tr>\n",
       "    <tr>\n",
       "      <td>0.941</td>\n",
       "      <td>14.632</td>\n",
       "      <td>13</td>\n",
       "      <td>train</td>\n",
       "    </tr>\n",
       "    <tr>\n",
       "      <td>0.692</td>\n",
       "      <td>15.376</td>\n",
       "      <td>13</td>\n",
       "      <td>eval</td>\n",
       "    </tr>\n",
       "    <tr>\n",
       "      <td>0.946</td>\n",
       "      <td>13.912</td>\n",
       "      <td>14</td>\n",
       "      <td>train</td>\n",
       "    </tr>\n",
       "    <tr>\n",
       "      <td>0.662</td>\n",
       "      <td>14.908</td>\n",
       "      <td>14</td>\n",
       "      <td>eval</td>\n",
       "    </tr>\n",
       "    <tr>\n",
       "      <td>0.948</td>\n",
       "      <td>13.257</td>\n",
       "      <td>15</td>\n",
       "      <td>train</td>\n",
       "    </tr>\n",
       "    <tr>\n",
       "      <td>0.598</td>\n",
       "      <td>14.592</td>\n",
       "      <td>15</td>\n",
       "      <td>eval</td>\n",
       "    </tr>\n",
       "    <tr>\n",
       "      <td>0.934</td>\n",
       "      <td>12.727</td>\n",
       "      <td>16</td>\n",
       "      <td>train</td>\n",
       "    </tr>\n",
       "    <tr>\n",
       "      <td>0.668</td>\n",
       "      <td>13.534</td>\n",
       "      <td>16</td>\n",
       "      <td>eval</td>\n",
       "    </tr>\n",
       "    <tr>\n",
       "      <td>0.943</td>\n",
       "      <td>12.166</td>\n",
       "      <td>17</td>\n",
       "      <td>train</td>\n",
       "    </tr>\n",
       "    <tr>\n",
       "      <td>0.657</td>\n",
       "      <td>13.292</td>\n",
       "      <td>17</td>\n",
       "      <td>eval</td>\n",
       "    </tr>\n",
       "    <tr>\n",
       "      <td>0.930</td>\n",
       "      <td>11.727</td>\n",
       "      <td>18</td>\n",
       "      <td>train</td>\n",
       "    </tr>\n",
       "    <tr>\n",
       "      <td>0.631</td>\n",
       "      <td>12.921</td>\n",
       "      <td>18</td>\n",
       "      <td>eval</td>\n",
       "    </tr>\n",
       "    <tr>\n",
       "      <td>0.938</td>\n",
       "      <td>11.255</td>\n",
       "      <td>19</td>\n",
       "      <td>train</td>\n",
       "    </tr>\n",
       "    <tr>\n",
       "      <td>0.690</td>\n",
       "      <td>12.175</td>\n",
       "      <td>19</td>\n",
       "      <td>eval</td>\n",
       "    </tr>\n",
       "  </tbody>\n",
       "</table>"
      ],
      "text/plain": [
       "<IPython.core.display.HTML object>"
      ]
     },
     "metadata": {},
     "output_type": "display_data"
    },
    {
     "data": {
      "image/png": "[encoded data removed]",
      "text/plain": [
       "<Figure size 600x400 with 1 Axes>"
      ]
     },
     "metadata": {},
     "output_type": "display_data"
    }
   ],
   "source": [
    "learner.fit(n_epochs=20, lr=0.001)"
   ]
  },
  {
   "cell_type": "code",
   "execution_count": 21,
   "id": "9b856e08-c3f3-4aab-b48e-2f20315a5b44",
   "metadata": {},
   "outputs": [],
   "source": [
    "torch.save(model.state_dict(), 'resnet50_reg_5e-5.pt')"
   ]
  },
  {
   "cell_type": "markdown",
   "id": "6ae60729-b095-4cb8-a9e5-b91f06d9f645",
   "metadata": {},
   "source": [
    "## Exploring ConvNeXt\n",
    "ConvNeXt family of models were explored in the paper [A ConvNet for the 2020s](https://arxiv.org/abs/2201.03545). It is proposed a family of convolutional models which are competitive with Vision Transformers (the SOTA at the time for image classification). The timm library makes this model family easily accessible. \n"
   ]
  },
  {
   "cell_type": "code",
   "execution_count": 18,
   "id": "1d06a6a6-5b91-4dff-9fbd-55bdba6cf81d",
   "metadata": {},
   "outputs": [],
   "source": [
    "model = timm.create_model('convnext_base', pretrained=True, num_classes=137)\n",
    "init_model(model, initialize=False, freeze_backbone=True)\n",
    "learner = TrainLearner(model, dls=dls, loss_func=torch.nn.CrossEntropyLoss(), cbs=cbs+[RegularizerCB(alpha=5e-5)], opt_func=torch.optim.Adam)"
   ]
  },
  {
   "cell_type": "code",
   "execution_count": 19,
   "id": "a3914530-dd39-4f0d-b6ef-9e1854af4a5b",
   "metadata": {},
   "outputs": [
    {
     "data": {
      "text/html": [
       "\n",
       "<style>\n",
       "    /* Turns off some styling */\n",
       "    progress {\n",
       "        /* gets rid of default border in Firefox and Opera. */\n",
       "        border: none;\n",
       "        /* Needs to be in here for Safari polyfill so background images work as expected. */\n",
       "        background-size: auto;\n",
       "    }\n",
       "    progress:not([value]), progress:not([value])::-webkit-progress-bar {\n",
       "        background: repeating-linear-gradient(45deg, #7e7e7e, #7e7e7e 10px, #5c5c5c 10px, #5c5c5c 20px);\n",
       "    }\n",
       "    .progress-bar-interrupted, .progress-bar-interrupted::-webkit-progress-bar {\n",
       "        background: #F44336;\n",
       "    }\n",
       "</style>\n"
      ],
      "text/plain": [
       "<IPython.core.display.HTML object>"
      ]
     },
     "metadata": {},
     "output_type": "display_data"
    },
    {
     "data": {
      "text/html": [
       "<table border=\"1\" class=\"dataframe\">\n",
       "  <thead>\n",
       "    <tr style=\"text-align: left;\">\n",
       "      <th>accuracy</th>\n",
       "      <th>loss</th>\n",
       "      <th>epoch</th>\n",
       "      <th>train</th>\n",
       "    </tr>\n",
       "  </thead>\n",
       "  <tbody>\n",
       "    <tr>\n",
       "      <td>0.704</td>\n",
       "      <td>66.419</td>\n",
       "      <td>0</td>\n",
       "      <td>train</td>\n",
       "    </tr>\n",
       "    <tr>\n",
       "      <td>0.862</td>\n",
       "      <td>65.600</td>\n",
       "      <td>0</td>\n",
       "      <td>eval</td>\n",
       "    </tr>\n",
       "    <tr>\n",
       "      <td>0.846</td>\n",
       "      <td>65.577</td>\n",
       "      <td>1</td>\n",
       "      <td>train</td>\n",
       "    </tr>\n",
       "    <tr>\n",
       "      <td>0.864</td>\n",
       "      <td>65.557</td>\n",
       "      <td>1</td>\n",
       "      <td>eval</td>\n",
       "    </tr>\n",
       "    <tr>\n",
       "      <td>0.871</td>\n",
       "      <td>65.492</td>\n",
       "      <td>2</td>\n",
       "      <td>train</td>\n",
       "    </tr>\n",
       "    <tr>\n",
       "      <td>0.859</td>\n",
       "      <td>65.544</td>\n",
       "      <td>2</td>\n",
       "      <td>eval</td>\n",
       "    </tr>\n",
       "    <tr>\n",
       "      <td>0.886</td>\n",
       "      <td>65.445</td>\n",
       "      <td>3</td>\n",
       "      <td>train</td>\n",
       "    </tr>\n",
       "    <tr>\n",
       "      <td>0.857</td>\n",
       "      <td>65.539</td>\n",
       "      <td>3</td>\n",
       "      <td>eval</td>\n",
       "    </tr>\n",
       "    <tr>\n",
       "      <td>0.893</td>\n",
       "      <td>65.418</td>\n",
       "      <td>4</td>\n",
       "      <td>train</td>\n",
       "    </tr>\n",
       "    <tr>\n",
       "      <td>0.862</td>\n",
       "      <td>65.540</td>\n",
       "      <td>4</td>\n",
       "      <td>eval</td>\n",
       "    </tr>\n",
       "    <tr>\n",
       "      <td>0.903</td>\n",
       "      <td>65.399</td>\n",
       "      <td>5</td>\n",
       "      <td>train</td>\n",
       "    </tr>\n",
       "    <tr>\n",
       "      <td>0.855</td>\n",
       "      <td>65.541</td>\n",
       "      <td>5</td>\n",
       "      <td>eval</td>\n",
       "    </tr>\n",
       "    <tr>\n",
       "      <td>0.904</td>\n",
       "      <td>65.392</td>\n",
       "      <td>6</td>\n",
       "      <td>train</td>\n",
       "    </tr>\n",
       "    <tr>\n",
       "      <td>0.857</td>\n",
       "      <td>65.546</td>\n",
       "      <td>6</td>\n",
       "      <td>eval</td>\n",
       "    </tr>\n",
       "    <tr>\n",
       "      <td>0.907</td>\n",
       "      <td>65.391</td>\n",
       "      <td>7</td>\n",
       "      <td>train</td>\n",
       "    </tr>\n",
       "    <tr>\n",
       "      <td>0.862</td>\n",
       "      <td>65.561</td>\n",
       "      <td>7</td>\n",
       "      <td>eval</td>\n",
       "    </tr>\n",
       "    <tr>\n",
       "      <td>0.907</td>\n",
       "      <td>65.399</td>\n",
       "      <td>8</td>\n",
       "      <td>train</td>\n",
       "    </tr>\n",
       "    <tr>\n",
       "      <td>0.859</td>\n",
       "      <td>65.573</td>\n",
       "      <td>8</td>\n",
       "      <td>eval</td>\n",
       "    </tr>\n",
       "    <tr>\n",
       "      <td>0.907</td>\n",
       "      <td>65.406</td>\n",
       "      <td>9</td>\n",
       "      <td>train</td>\n",
       "    </tr>\n",
       "    <tr>\n",
       "      <td>0.851</td>\n",
       "      <td>65.589</td>\n",
       "      <td>9</td>\n",
       "      <td>eval</td>\n",
       "    </tr>\n",
       "    <tr>\n",
       "      <td>0.904</td>\n",
       "      <td>65.423</td>\n",
       "      <td>10</td>\n",
       "      <td>train</td>\n",
       "    </tr>\n",
       "    <tr>\n",
       "      <td>0.855</td>\n",
       "      <td>65.604</td>\n",
       "      <td>10</td>\n",
       "      <td>eval</td>\n",
       "    </tr>\n",
       "    <tr>\n",
       "      <td>0.900</td>\n",
       "      <td>65.438</td>\n",
       "      <td>11</td>\n",
       "      <td>train</td>\n",
       "    </tr>\n",
       "    <tr>\n",
       "      <td>0.846</td>\n",
       "      <td>65.624</td>\n",
       "      <td>11</td>\n",
       "      <td>eval</td>\n",
       "    </tr>\n",
       "    <tr>\n",
       "      <td>0.897</td>\n",
       "      <td>65.462</td>\n",
       "      <td>12</td>\n",
       "      <td>train</td>\n",
       "    </tr>\n",
       "    <tr>\n",
       "      <td>0.840</td>\n",
       "      <td>65.653</td>\n",
       "      <td>12</td>\n",
       "      <td>eval</td>\n",
       "    </tr>\n",
       "    <tr>\n",
       "      <td>0.893</td>\n",
       "      <td>65.486</td>\n",
       "      <td>13</td>\n",
       "      <td>train</td>\n",
       "    </tr>\n",
       "    <tr>\n",
       "      <td>0.835</td>\n",
       "      <td>65.676</td>\n",
       "      <td>13</td>\n",
       "      <td>eval</td>\n",
       "    </tr>\n",
       "    <tr>\n",
       "      <td>0.887</td>\n",
       "      <td>65.518</td>\n",
       "      <td>14</td>\n",
       "      <td>train</td>\n",
       "    </tr>\n",
       "    <tr>\n",
       "      <td>0.831</td>\n",
       "      <td>65.695</td>\n",
       "      <td>14</td>\n",
       "      <td>eval</td>\n",
       "    </tr>\n",
       "    <tr>\n",
       "      <td>0.883</td>\n",
       "      <td>65.551</td>\n",
       "      <td>15</td>\n",
       "      <td>train</td>\n",
       "    </tr>\n",
       "    <tr>\n",
       "      <td>0.829</td>\n",
       "      <td>65.733</td>\n",
       "      <td>15</td>\n",
       "      <td>eval</td>\n",
       "    </tr>\n",
       "    <tr>\n",
       "      <td>0.876</td>\n",
       "      <td>65.590</td>\n",
       "      <td>16</td>\n",
       "      <td>train</td>\n",
       "    </tr>\n",
       "    <tr>\n",
       "      <td>0.820</td>\n",
       "      <td>65.772</td>\n",
       "      <td>16</td>\n",
       "      <td>eval</td>\n",
       "    </tr>\n",
       "    <tr>\n",
       "      <td>0.868</td>\n",
       "      <td>65.629</td>\n",
       "      <td>17</td>\n",
       "      <td>train</td>\n",
       "    </tr>\n",
       "    <tr>\n",
       "      <td>0.815</td>\n",
       "      <td>65.829</td>\n",
       "      <td>17</td>\n",
       "      <td>eval</td>\n",
       "    </tr>\n",
       "    <tr>\n",
       "      <td>0.858</td>\n",
       "      <td>65.690</td>\n",
       "      <td>18</td>\n",
       "      <td>train</td>\n",
       "    </tr>\n",
       "    <tr>\n",
       "      <td>0.800</td>\n",
       "      <td>65.886</td>\n",
       "      <td>18</td>\n",
       "      <td>eval</td>\n",
       "    </tr>\n",
       "    <tr>\n",
       "      <td>0.852</td>\n",
       "      <td>65.750</td>\n",
       "      <td>19</td>\n",
       "      <td>train</td>\n",
       "    </tr>\n",
       "    <tr>\n",
       "      <td>0.796</td>\n",
       "      <td>65.955</td>\n",
       "      <td>19</td>\n",
       "      <td>eval</td>\n",
       "    </tr>\n",
       "  </tbody>\n",
       "</table>"
      ],
      "text/plain": [
       "<IPython.core.display.HTML object>"
      ]
     },
     "metadata": {},
     "output_type": "display_data"
    },
    {
     "data": {
      "image/png": "[encoded data removed]",
      "text/plain": [
       "<Figure size 600x400 with 1 Axes>"
      ]
     },
     "metadata": {},
     "output_type": "display_data"
    }
   ],
   "source": [
    "learner.fit(n_epochs=20, lr=0.001)"
   ]
  },
  {
   "cell_type": "code",
   "execution_count": 20,
   "id": "27ad09ea-f180-4233-ab9f-0df7546555f9",
   "metadata": {},
   "outputs": [],
   "source": [
    "torch.save(model.state_dict(), 'convnext_base_reg_5e-5.pt')"
   ]
  },
  {
   "cell_type": "markdown",
   "id": "7cb586d4-51f7-4483-ac5f-afa4839cfd1a",
   "metadata": {},
   "source": [
    "## Test Set Performance \n",
    "So we notice that convnext has a better accuracy on validation set however resnet50 has better performance on the training set, supporting the assumption that resnet50 is overfitting on this small benchmark. Let's test the accuracy of both models on the test set."
   ]
  },
  {
   "cell_type": "code",
   "execution_count": 16,
   "id": "30b92d85-b493-4433-b6d0-6ec3bf4d6300",
   "metadata": {},
   "outputs": [
    {
     "data": {
      "text/plain": [
       "<All keys matched successfully>"
      ]
     },
     "execution_count": 16,
     "metadata": {},
     "output_type": "execute_result"
    }
   ],
   "source": [
    "resnet = timm.create_model('resnet50', pretrained=True, num_classes=137)\n",
    "resnet.load_state_dict(torch.load('resnet50_reg_5e-5.pt'))"
   ]
  },
  {
   "cell_type": "code",
   "execution_count": 86,
   "id": "73d8822a-b74e-424c-8ec4-f66d866d1649",
   "metadata": {},
   "outputs": [
    {
     "data": {
      "text/plain": [
       "<All keys matched successfully>"
      ]
     },
     "execution_count": 86,
     "metadata": {},
     "output_type": "execute_result"
    }
   ],
   "source": [
    "resnet_earlystop = timm.create_model('resnet50', pretrained=True, num_classes=137)\n",
    "resnet_earlystop.load_state_dict(torch.load('resnet50_4e.pt'))"
   ]
  },
  {
   "cell_type": "code",
   "execution_count": 17,
   "id": "47acca5d-7c1b-405d-b634-af332399f9d3",
   "metadata": {},
   "outputs": [
    {
     "data": {
      "text/plain": [
       "<All keys matched successfully>"
      ]
     },
     "execution_count": 17,
     "metadata": {},
     "output_type": "execute_result"
    }
   ],
   "source": [
    "convnext = timm.create_model('convnext_base', pretrained=True, num_classes=137)\n",
    "convnext.load_state_dict(torch.load('convnext_base_reg_5e-5.pt'))"
   ]
  },
  {
   "cell_type": "code",
   "execution_count": 89,
   "id": "b8700b53-5921-4d2b-b938-c3c310b05db7",
   "metadata": {},
   "outputs": [],
   "source": [
    "#| export\n",
    "def get_classification_accuracy(model, dl):\n",
    "    device = 'cuda' if torch.cuda.is_available() else ('mps' if torch.backends.mps.is_available() else 'cpu')\n",
    "    matches = []\n",
    "    model.eval()\n",
    "    model.to(device)\n",
    "    for (imgs, labels) in dl:\n",
    "        imgs = imgs.to(device)\n",
    "        labels = labels.to(device)\n",
    "        with torch.no_grad():\n",
    "            logits = model(imgs)\n",
    "        preds = logits.argmax(-1)\n",
    "        matches.extend((preds == labels).cpu().tolist())\n",
    "    return np.mean(matches)\n",
    "\n",
    "\n",
    "def get_classification_accuracy_ensembled(models, dl):\n",
    "    models = models if isinstance(models, list) else [models]\n",
    "    device = 'cuda' if torch.cuda.is_available() else ('mps' if torch.backends.mps.is_available() else 'cpu')\n",
    "    matches = []\n",
    "    [model.eval() for model in models]\n",
    "    models = [model.to(device) for model in models]\n",
    "    for (imgs, labels) in dl:\n",
    "        imgs = imgs.to(device)\n",
    "        labels = labels.to(device)\n",
    "        with torch.no_grad():\n",
    "            # Do bagging\n",
    "            logits = sum([model(imgs) for model in models])\n",
    "            logits = logits/float(len(models))\n",
    "        preds = logits.argmax(-1)\n",
    "        matches.extend((preds == labels).cpu().tolist())\n",
    "    return np.mean(matches)"
   ]
  },
  {
   "cell_type": "code",
   "execution_count": 90,
   "id": "eb5205e5-9b5d-484f-ba40-c47b416f5115",
   "metadata": {},
   "outputs": [
    {
     "name": "stdout",
     "output_type": "stream",
     "text": [
      "ResNet50 test set accuracy: 0.69\n"
     ]
    }
   ],
   "source": [
    "print(f'ResNet50 test set accuracy: {get_classification_accuracy(resnet, test_dl):.2f}')"
   ]
  },
  {
   "cell_type": "code",
   "execution_count": 91,
   "id": "518f18f4-2259-48dc-8703-74a83e15393b",
   "metadata": {},
   "outputs": [
    {
     "name": "stdout",
     "output_type": "stream",
     "text": [
      "ResNet50 (with early stopping) test set accuracy: 0.76\n"
     ]
    }
   ],
   "source": [
    "print(f'ResNet50 (with early stopping) test set accuracy: {get_classification_accuracy(resnet_earlystop, test_dl):.2f}')"
   ]
  },
  {
   "cell_type": "code",
   "execution_count": 93,
   "id": "47e43700-ba57-4629-872c-59885227e567",
   "metadata": {},
   "outputs": [
    {
     "name": "stdout",
     "output_type": "stream",
     "text": [
      "ConvNeXt test set accuracy: 0.81\n"
     ]
    }
   ],
   "source": [
    "print(f'ConvNeXt test set accuracy: {get_classification_accuracy(convnext, test_dl):.2f}')"
   ]
  },
  {
   "cell_type": "markdown",
   "id": "cf1a6b53-08cb-4291-8672-583d31a4e78d",
   "metadata": {},
   "source": [
    "Thus overall, a **simple ConvNeXt performs best on the test set for this small benchmark problem.**"
   ]
  },
  {
   "cell_type": "code",
   "execution_count": 97,
   "id": "1815875d-773d-4c95-87f5-a345b2fd1bd4",
   "metadata": {},
   "outputs": [
    {
     "name": "stdout",
     "output_type": "stream",
     "text": [
      "Ensemble test set accuracy: 0.81\n"
     ]
    }
   ],
   "source": [
    "print(f'Ensemble test set accuracy: {get_classification_accuracy_ensembled([convnext, resnet, resnet_earlystop], test_dl):.2f}')"
   ]
  },
  {
   "cell_type": "markdown",
   "id": "55e91af1-5bee-4ed0-9a9d-79e0ef9182bd",
   "metadata": {},
   "source": [
    "Even in the case of an ensemble in this case, the convnext accuracy dominates that of the other two networks, showing a ConvNeXt as the best choice for this problem./"
   ]
  },
  {
   "cell_type": "markdown",
   "id": "b224946c-7634-4ec9-a416-ee78cf563a1c",
   "metadata": {},
   "source": [
    "Even in the case of an ensemble in this case, the convnext accuracy dominates that of the other two networks, showing a ConvNeXt as the best choice for this problem."
   ]
  },
  {
   "cell_type": "code",
   "execution_count": 3,
   "id": "c610849d-9630-48fa-8da8-3f4a959b881d",
   "metadata": {},
   "outputs": [],
   "source": [
    "#| hide\n",
    "import nbdev; nbdev.nbdev_export()"
   ]
  },
  {
   "cell_type": "code",
   "execution_count": null,
   "id": "a6d57473-f165-4832-9bcb-5814d525a44d",
   "metadata": {},
   "outputs": [],
   "source": []
  }
 ],
 "metadata": {
  "kernelspec": {
   "display_name": "Python 3 (ipykernel)",
   "language": "python",
   "name": "python3"
  },
  "language_info": {
   "codemirror_mode": {
    "name": "ipython",
    "version": 3
   },
   "file_extension": ".py",
   "mimetype": "text/x-python",
   "name": "python",
   "nbconvert_exporter": "python",
   "pygments_lexer": "ipython3",
   "version": "3.10.0"
  }
 },
 "nbformat": 4,
 "nbformat_minor": 5
}

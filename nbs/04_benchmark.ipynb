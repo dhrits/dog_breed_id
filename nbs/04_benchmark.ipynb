{
 "cells": [
  {
   "cell_type": "code",
   "execution_count": 1,
   "id": "fdc57a81-eaeb-4ff5-bace-d2b825a2cfbb",
   "metadata": {},
   "outputs": [],
   "source": [
    "#| default_exp benchmark"
   ]
  },
  {
   "cell_type": "code",
   "execution_count": 17,
   "id": "f51b3284-65db-4105-845b-d2b898970cfb",
   "metadata": {},
   "outputs": [
    {
     "name": "stdout",
     "output_type": "stream",
     "text": [
      "Obtaining file:///Users/dhritimansagar/Dev/dog_breed_id\n",
      "  Preparing metadata (setup.py) ... \u001b[?25ldone\n",
      "\u001b[?25hInstalling collected packages: dog_breed_id\n",
      "  Attempting uninstall: dog_breed_id\n",
      "    Found existing installation: dog_breed_id 0.0.1\n",
      "    Uninstalling dog_breed_id-0.0.1:\n",
      "      Successfully uninstalled dog_breed_id-0.0.1\n",
      "  Running setup.py develop for dog_breed_id\n",
      "Successfully installed dog_breed_id-0.0.1\n"
     ]
    }
   ],
   "source": [
    "!pip install -e ../"
   ]
  },
  {
   "cell_type": "code",
   "execution_count": 2,
   "id": "7ddb5002-3cb9-4f95-841a-aa8934f45036",
   "metadata": {},
   "outputs": [
    {
     "name": "stderr",
     "output_type": "stream",
     "text": [
      "/Users/dhritimansagar/Dev/dog_breed_id/venv31013/lib/python3.10/site-packages/tqdm/auto.py:21: TqdmWarning: IProgress not found. Please update jupyter and ipywidgets. See https://ipywidgets.readthedocs.io/en/stable/user_install.html\n",
      "  from .autonotebook import tqdm as notebook_tqdm\n"
     ]
    }
   ],
   "source": [
    "#| export\n",
    "from dog_breed_id.data_preprocessing import read_csv_with_array_columns\n",
    "from dog_breed_id.research import get_classes_from_frame\n",
    "from miniai.learner import *\n",
    "from miniai.init import *\n",
    "from miniai.activations import *\n",
    "from miniai.datasets import show_images\n",
    "\n",
    "import cv2\n",
    "import fastcore.all as fc\n",
    "from pathlib import Path\n",
    "from PIL import Image\n",
    "import pandas as pd\n",
    "import numpy as np\n",
    "import glob\n",
    "import os\n",
    "from matplotlib import pyplot as plt\n",
    "\n",
    "import shutil\n",
    "import torch\n",
    "import torchvision\n",
    "from torch import nn\n",
    "from torch.utils.data import Dataset, DataLoader\n",
    "from torchvision.transforms import functional as F\n",
    "from torcheval.metrics import MulticlassAccuracy\n",
    "from sklearn.model_selection import train_test_split\n",
    "import timm"
   ]
  },
  {
   "cell_type": "code",
   "execution_count": 3,
   "id": "53e4d030-3441-4f94-866b-8b17af272520",
   "metadata": {},
   "outputs": [],
   "source": [
    "df = read_csv_with_array_columns('../data/dogs.csv', ['bboxes'])"
   ]
  },
  {
   "cell_type": "code",
   "execution_count": 4,
   "id": "1a26b470-0471-4135-82a9-df35dfe64947",
   "metadata": {},
   "outputs": [],
   "source": [
    "#| export\n",
    "def get_id_mappings(df, include_background=True):\n",
    "    classes = get_classes_from_frame(df, include_background=include_background)\n",
    "    label2id = {label: i for i, label in enumerate(classes)}\n",
    "    id2label = {i: label for i, label in enumerate(classes)}\n",
    "    return label2id, id2label\n",
    "\n",
    "def get_class_weights(df, label2id):\n",
    "    weights = 1./df['category'].value_counts(normalize=True)\n",
    "    weights = weights/weights.sum()\n",
    "    keys = [label2id[l] for l in weights.index]\n",
    "    order = np.argsort(keys)\n",
    "    return torch.tensor(weights.values[order])"
   ]
  },
  {
   "cell_type": "code",
   "execution_count": 5,
   "id": "e4cffc3c-98de-4fd8-a771-1abd3dad59c0",
   "metadata": {},
   "outputs": [],
   "source": [
    "label2id, id2label = get_id_mappings(df, include_background=False)\n",
    "weights = get_class_weights(df, label2id)"
   ]
  },
  {
   "cell_type": "code",
   "execution_count": 6,
   "id": "f90cca54-0609-4bb9-ada9-09db9b112e5f",
   "metadata": {},
   "outputs": [
    {
     "data": {
      "text/plain": [
       "torch.Size([137])"
      ]
     },
     "execution_count": 6,
     "metadata": {},
     "output_type": "execute_result"
    }
   ],
   "source": [
    "weights.shape"
   ]
  },
  {
   "cell_type": "code",
   "execution_count": 7,
   "id": "c63db57e-4549-46aa-a763-b339ad3e0b25",
   "metadata": {},
   "outputs": [],
   "source": [
    "# order = np.argsort(keys)\n",
    "# print(weights.loc['schipperke'])\n",
    "# print(weights.loc['australian_shepherd'])\n",
    "# weights.values[order]"
   ]
  },
  {
   "cell_type": "code",
   "execution_count": 7,
   "id": "f142b04c-e318-4c2f-adf2-af040f946d81",
   "metadata": {},
   "outputs": [],
   "source": [
    "#| export\n",
    "def get_data_subsets(df, cache_path='../data', recreate=False):\n",
    "    Path(cache_path).mkdir(parents=True, exist_ok=True)\n",
    "    if not Path('../data/train.csv').exists() or recreate:\n",
    "        train_subset, valid_subset = train_test_split(df, train_size=0.1, test_size=0.01, stratify=df['category'])\n",
    "        valid_subset, test_subset = train_test_split(valid_subset, train_size=0.5, test_size=0.5)\n",
    "        train_subset.to_csv('../data/train.csv')\n",
    "        valid_subset.to_csv('../data/valid.csv')\n",
    "        test_subset.to_csv('../data/test.csv')\n",
    "    else:\n",
    "        print('Cached files found, reading from disk')\n",
    "        train_subset = read_csv_with_array_columns('../data/train.csv', ['bboxes'])\n",
    "        valid_subset = read_csv_with_array_columns('../data/valid.csv', ['bboxes'])\n",
    "        test_subset = read_csv_with_array_columns('../data/test.csv', ['bboxes'])\n",
    "    return train_subset, valid_subset, test_subset"
   ]
  },
  {
   "cell_type": "code",
   "execution_count": 8,
   "id": "beb9e8b6-e0f3-44b5-90b4-880f267c02c9",
   "metadata": {},
   "outputs": [
    {
     "name": "stdout",
     "output_type": "stream",
     "text": [
      "Cached files found, reading from disk\n"
     ]
    }
   ],
   "source": [
    "train_subset, valid_subset, test_subset = get_data_subsets(df)"
   ]
  },
  {
   "cell_type": "code",
   "execution_count": 9,
   "id": "5844fbff-8efc-47a6-9942-ba772b6002f4",
   "metadata": {},
   "outputs": [],
   "source": [
    "#| export\n",
    "\n",
    "class DogBreedClassificationDataset(Dataset):\n",
    "    def __init__(self, df, label2id, id2label, transforms=None):\n",
    "        super(DogBreedClassificationDataset, self).__init__()\n",
    "        self.df = df\n",
    "        if not transforms:\n",
    "            self.transforms = torchvision.transforms.Compose([\n",
    "                torchvision.transforms.ToTensor(),\n",
    "                torchvision.transforms.Normalize(mean=[0.485, 0.456, 0.406], std=[0.229, 0.224, 0.225])\n",
    "            ])\n",
    "        else:\n",
    "            self.transforms = transforms\n",
    "        self.label2id, self.id2label = label2id, id2label\n",
    "    \n",
    "    def __len__(self):\n",
    "        return self.df.shape[0]\n",
    "\n",
    "    def __getitem__(self, idx):\n",
    "        if idx >= df.shape[0]:\n",
    "            print(\"Index out of bounds: \", idx, \" length: \", )\n",
    "            idx = 0\n",
    "        item = self.df.iloc[idx]\n",
    "        img = Image.open(item.image)\n",
    "        tensor = self.transforms(img)\n",
    "        label = self.label2id[item['category']]\n",
    "        return tensor, label\n",
    "\n",
    "TRAIN_TRANSFORMS = torchvision.transforms.Compose([\n",
    "    torchvision.transforms.Resize((256, 256)),\n",
    "    torchvision.transforms.RandomHorizontalFlip(),\n",
    "    torchvision.transforms.ColorJitter(0.5, 0.5, 0.5),\n",
    "    torchvision.transforms.ToTensor(),\n",
    "    torchvision.transforms.RandomErasing(p=0.1),\n",
    "    torchvision.transforms.Normalize(mean=[0.485, 0.456, 0.406], std=[0.229, 0.224, 0.225])\n",
    "])\n",
    "VALID_TRANSFORMS = torchvision.transforms.Compose([\n",
    "    torchvision.transforms.Resize((256, 256)),\n",
    "    torchvision.transforms.ToTensor(),\n",
    "    torchvision.transforms.Normalize(mean=[0.485, 0.456, 0.406], std=[0.229, 0.224, 0.225])\n",
    "])"
   ]
  },
  {
   "cell_type": "code",
   "execution_count": 10,
   "id": "886c14a6-e7a6-443c-9772-e61790cd71a1",
   "metadata": {},
   "outputs": [],
   "source": [
    "train_ds = DogBreedClassificationDataset(train_subset, label2id, id2label, TRAIN_TRANSFORMS)\n",
    "train_dl = torch.utils.data.DataLoader(train_ds, batch_size=128)\n",
    "\n",
    "valid_ds = DogBreedClassificationDataset(valid_subset, label2id, id2label, VALID_TRANSFORMS)\n",
    "valid_dl = torch.utils.data.DataLoader(valid_ds, batch_size=128)\n",
    "\n",
    "test_ds = DogBreedClassificationDataset(test_subset, label2id, id2label, VALID_TRANSFORMS),\n",
    "test_dl = torch.utils.data.DataLoader(test_ds, batch_size=128)"
   ]
  },
  {
   "cell_type": "code",
   "execution_count": 11,
   "id": "61e8901d-7bd6-4481-8274-1f7e207ec2b8",
   "metadata": {},
   "outputs": [],
   "source": [
    "#| export\n",
    "from functools import partial\n",
    "iw = partial(init_weights, leaky=0.1)\n",
    "def freeze_weights(p):\n",
    "    p.requires_grad_(False)\n",
    "\n",
    "def init_model(model, initialize=False, freeze_backbone=False):\n",
    "    if initialize:\n",
    "        model.apply(iw)\n",
    "    if freeze_backbone:\n",
    "        model.apply(freeze_weights)\n",
    "    model.fc.requires_grad_(True)"
   ]
  },
  {
   "cell_type": "code",
   "execution_count": 12,
   "id": "a56db371-ecc4-45f3-9ffa-ac520e4e75aa",
   "metadata": {},
   "outputs": [],
   "source": [
    "astats = ActivationStats(fc.risinstance(torch.nn.ReLU))\n",
    "metrics = MetricsCB(accuracy=MulticlassAccuracy())\n",
    "cbs = [DeviceCB(), metrics, ProgressCB(plot=True), astats]"
   ]
  },
  {
   "cell_type": "code",
   "execution_count": 13,
   "id": "431d16bb-45cc-449b-b2ac-00c62fdde5ed",
   "metadata": {},
   "outputs": [],
   "source": [
    "#| export\n",
    "from collections import namedtuple\n",
    "\n",
    "DataLoaders = namedtuple('DataLoaders', ['train', 'valid'])"
   ]
  },
  {
   "cell_type": "code",
   "execution_count": 14,
   "id": "bf5ccaff-3d8e-49d3-8886-adebc17931b1",
   "metadata": {},
   "outputs": [],
   "source": [
    "dls = DataLoaders(train_dl, valid_dl)"
   ]
  },
  {
   "cell_type": "code",
   "execution_count": 15,
   "id": "99f13fd9-7ff3-4ab2-8a18-fcf406468937",
   "metadata": {},
   "outputs": [],
   "source": [
    "#| export\n",
    "class RegularizerCB(Callback):\n",
    "    def __init__(self, alpha=0.01): fc.store_attr()\n",
    "    \n",
    "    def after_loss(self, learn):\n",
    "        param_sum = sum([(p**2).sum() for p in learn.model.parameters()])\n",
    "        param_sum *= self.alpha\n",
    "        learn.loss += param_sum"
   ]
  },
  {
   "cell_type": "markdown",
   "id": "8aadb792-8e49-4d3e-a3dd-22812d51c7cb",
   "metadata": {},
   "source": [
    "## Exploring ResNet"
   ]
  },
  {
   "cell_type": "code",
   "execution_count": 12,
   "id": "8af012c3-2908-40c6-9a96-d684c15c9d38",
   "metadata": {},
   "outputs": [
    {
     "data": {
      "image/png": "[encoded data removed]",
      "text/plain": [
       "<Figure size 640x480 with 1 Axes>"
      ]
     },
     "metadata": {},
     "output_type": "display_data"
    }
   ],
   "source": [
    "model = timm.create_model('resnet50', pretrained=True, num_classes=137)\n",
    "init_model(model)\n",
    "TrainLearner(model, dls=dls, loss_func=torch.nn.CrossEntropyLoss(), cbs=DeviceCB(), opt_func=torch.optim.Adam).lr_find()"
   ]
  },
  {
   "cell_type": "code",
   "execution_count": 16,
   "id": "b258e655-6a45-40e7-9721-17fd98b1a5e8",
   "metadata": {},
   "outputs": [],
   "source": [
    "model = timm.create_model('resnet50', pretrained=True, num_classes=137)\n",
    "init_model(model, initialize=False, freeze_backbone=False)\n",
    "learner = TrainLearner(model, dls=dls, loss_func=torch.nn.CrossEntropyLoss(), cbs=cbs, opt_func=torch.optim.Adam)"
   ]
  },
  {
   "cell_type": "code",
   "execution_count": 14,
   "id": "e5423c47-75f5-4e0c-94dd-fc1c906595dc",
   "metadata": {},
   "outputs": [
    {
     "data": {
      "text/html": [
       "\n",
       "<style>\n",
       "    /* Turns off some styling */\n",
       "    progress {\n",
       "        /* gets rid of default border in Firefox and Opera. */\n",
       "        border: none;\n",
       "        /* Needs to be in here for Safari polyfill so background images work as expected. */\n",
       "        background-size: auto;\n",
       "    }\n",
       "    progress:not([value]), progress:not([value])::-webkit-progress-bar {\n",
       "        background: repeating-linear-gradient(45deg, #7e7e7e, #7e7e7e 10px, #5c5c5c 10px, #5c5c5c 20px);\n",
       "    }\n",
       "    .progress-bar-interrupted, .progress-bar-interrupted::-webkit-progress-bar {\n",
       "        background: #F44336;\n",
       "    }\n",
       "</style>\n"
      ],
      "text/plain": [
       "<IPython.core.display.HTML object>"
      ]
     },
     "metadata": {},
     "output_type": "display_data"
    },
    {
     "data": {
      "text/html": [
       "<table border=\"1\" class=\"dataframe\">\n",
       "  <thead>\n",
       "    <tr style=\"text-align: left;\">\n",
       "      <th>accuracy</th>\n",
       "      <th>loss</th>\n",
       "      <th>epoch</th>\n",
       "      <th>train</th>\n",
       "    </tr>\n",
       "  </thead>\n",
       "  <tbody>\n",
       "    <tr>\n",
       "      <td>0.402</td>\n",
       "      <td>2.637</td>\n",
       "      <td>0</td>\n",
       "      <td>train</td>\n",
       "    </tr>\n",
       "    <tr>\n",
       "      <td>0.062</td>\n",
       "      <td>7.794</td>\n",
       "      <td>0</td>\n",
       "      <td>eval</td>\n",
       "    </tr>\n",
       "    <tr>\n",
       "      <td>0.762</td>\n",
       "      <td>0.770</td>\n",
       "      <td>1</td>\n",
       "      <td>train</td>\n",
       "    </tr>\n",
       "    <tr>\n",
       "      <td>0.066</td>\n",
       "      <td>10.249</td>\n",
       "      <td>1</td>\n",
       "      <td>eval</td>\n",
       "    </tr>\n",
       "    <tr>\n",
       "      <td>0.840</td>\n",
       "      <td>0.478</td>\n",
       "      <td>2</td>\n",
       "      <td>train</td>\n",
       "    </tr>\n",
       "    <tr>\n",
       "      <td>0.062</td>\n",
       "      <td>11.160</td>\n",
       "      <td>2</td>\n",
       "      <td>eval</td>\n",
       "    </tr>\n",
       "    <tr>\n",
       "      <td>0.889</td>\n",
       "      <td>0.338</td>\n",
       "      <td>3</td>\n",
       "      <td>train</td>\n",
       "    </tr>\n",
       "    <tr>\n",
       "      <td>0.066</td>\n",
       "      <td>11.421</td>\n",
       "      <td>3</td>\n",
       "      <td>eval</td>\n",
       "    </tr>\n",
       "  </tbody>\n",
       "</table>"
      ],
      "text/plain": [
       "<IPython.core.display.HTML object>"
      ]
     },
     "metadata": {},
     "output_type": "display_data"
    },
    {
     "data": {
      "image/png": "[encoded data removed]",
      "text/plain": [
       "<Figure size 600x400 with 1 Axes>"
      ]
     },
     "metadata": {},
     "output_type": "display_data"
    }
   ],
   "source": [
    "learner.fit(n_epochs=4, lr=0.001)"
   ]
  },
  {
   "cell_type": "code",
   "execution_count": 17,
   "id": "aeb7db66-e767-4fea-8626-9ebad6e6db5e",
   "metadata": {},
   "outputs": [
    {
     "data": {
      "text/html": [
       "\n",
       "<style>\n",
       "    /* Turns off some styling */\n",
       "    progress {\n",
       "        /* gets rid of default border in Firefox and Opera. */\n",
       "        border: none;\n",
       "        /* Needs to be in here for Safari polyfill so background images work as expected. */\n",
       "        background-size: auto;\n",
       "    }\n",
       "    progress:not([value]), progress:not([value])::-webkit-progress-bar {\n",
       "        background: repeating-linear-gradient(45deg, #7e7e7e, #7e7e7e 10px, #5c5c5c 10px, #5c5c5c 20px);\n",
       "    }\n",
       "    .progress-bar-interrupted, .progress-bar-interrupted::-webkit-progress-bar {\n",
       "        background: #F44336;\n",
       "    }\n",
       "</style>\n"
      ],
      "text/plain": [
       "<IPython.core.display.HTML object>"
      ]
     },
     "metadata": {},
     "output_type": "display_data"
    },
    {
     "data": {
      "text/html": [
       "<table border=\"1\" class=\"dataframe\">\n",
       "  <thead>\n",
       "    <tr style=\"text-align: left;\">\n",
       "      <th>accuracy</th>\n",
       "      <th>loss</th>\n",
       "      <th>epoch</th>\n",
       "      <th>train</th>\n",
       "    </tr>\n",
       "  </thead>\n",
       "  <tbody>\n",
       "    <tr>\n",
       "      <td>0.398</td>\n",
       "      <td>2.673</td>\n",
       "      <td>0</td>\n",
       "      <td>train</td>\n",
       "    </tr>\n",
       "    <tr>\n",
       "      <td>0.736</td>\n",
       "      <td>1.029</td>\n",
       "      <td>0</td>\n",
       "      <td>eval</td>\n",
       "    </tr>\n",
       "    <tr>\n",
       "      <td>0.759</td>\n",
       "      <td>0.800</td>\n",
       "      <td>1</td>\n",
       "      <td>train</td>\n",
       "    </tr>\n",
       "    <tr>\n",
       "      <td>0.782</td>\n",
       "      <td>0.720</td>\n",
       "      <td>1</td>\n",
       "      <td>eval</td>\n",
       "    </tr>\n",
       "    <tr>\n",
       "      <td>0.843</td>\n",
       "      <td>0.493</td>\n",
       "      <td>2</td>\n",
       "      <td>train</td>\n",
       "    </tr>\n",
       "    <tr>\n",
       "      <td>0.798</td>\n",
       "      <td>0.744</td>\n",
       "      <td>2</td>\n",
       "      <td>eval</td>\n",
       "    </tr>\n",
       "    <tr>\n",
       "      <td>0.895</td>\n",
       "      <td>0.328</td>\n",
       "      <td>3</td>\n",
       "      <td>train</td>\n",
       "    </tr>\n",
       "    <tr>\n",
       "      <td>0.793</td>\n",
       "      <td>0.706</td>\n",
       "      <td>3</td>\n",
       "      <td>eval</td>\n",
       "    </tr>\n",
       "  </tbody>\n",
       "</table>"
      ],
      "text/plain": [
       "<IPython.core.display.HTML object>"
      ]
     },
     "metadata": {},
     "output_type": "display_data"
    },
    {
     "data": {
      "image/png": "[encoded data removed]",
      "text/plain": [
       "<Figure size 600x400 with 1 Axes>"
      ]
     },
     "metadata": {},
     "output_type": "display_data"
    }
   ],
   "source": [
    "learner.fit(n_epochs=4, lr=0.001)"
   ]
  },
  {
   "cell_type": "code",
   "execution_count": 18,
   "id": "fe7b5e7d-999c-4150-8856-992f3201dfa4",
   "metadata": {},
   "outputs": [],
   "source": [
    "torch.save(model.state_dict(), 'resnet50_4e.pt')"
   ]
  },
  {
   "cell_type": "markdown",
   "id": "31384cf6-a103-4ce6-b500-af3335fe8d2c",
   "metadata": {},
   "source": [
    "As expected, on the small dataset, the model **overfits** to the training data and achieves an accuracy of 89% in only 4 epochs. Lets add regularization now and try simpler models."
   ]
  },
  {
   "cell_type": "code",
   "execution_count": 18,
   "id": "9ef47169-9a34-4d5d-89b9-9208b1a66687",
   "metadata": {},
   "outputs": [
    {
     "data": {
      "text/plain": [
       "tensor([0.0079, 0.0114, 0.0065, 0.0125, 0.0074, 0.0078, 0.0062, 0.0073, 0.0072,\n",
       "        0.0079, 0.0077, 0.0128, 0.0069, 0.0111, 0.0074, 0.0022, 0.0049, 0.0065,\n",
       "        0.0009, 0.0066, 0.0075, 0.0027, 0.0075, 0.0077, 0.0021, 0.0073, 0.0073,\n",
       "        0.0075, 0.0061, 0.0124, 0.0068, 0.0139, 0.0070, 0.0066, 0.0071, 0.0073,\n",
       "        0.0075, 0.0077, 0.0009, 0.0133, 0.0074, 0.0136, 0.0068, 0.0074, 0.0134,\n",
       "        0.0067, 0.0011, 0.0109, 0.0077, 0.0071, 0.0004, 0.0119, 0.0056, 0.0074,\n",
       "        0.0069, 0.0073, 0.0072, 0.0078, 0.0068, 0.0074, 0.0067, 0.0009, 0.0079,\n",
       "        0.0072, 0.0069, 0.0070, 0.0060, 0.0075, 0.0076, 0.0038, 0.0068, 0.0069,\n",
       "        0.0063, 0.0075, 0.0073, 0.0012, 0.0045, 0.0066, 0.0013, 0.0080, 0.0068,\n",
       "        0.0008, 0.0070, 0.0071, 0.0069, 0.0074, 0.0078, 0.0074, 0.0079, 0.0010,\n",
       "        0.0064, 0.0075, 0.0071, 0.0077, 0.0059, 0.0064, 0.0019, 0.0072, 0.0007,\n",
       "        0.0073, 0.0069, 0.0056, 0.0120, 0.0059, 0.0070, 0.0028, 0.0005, 0.0068,\n",
       "        0.0077, 0.0076, 0.0077, 0.0080, 0.0053, 0.0073, 0.0074, 0.0073, 0.0062,\n",
       "        0.0028, 0.0078, 0.0074, 0.0075, 0.0072, 0.0076, 0.0074, 0.0063, 0.0070,\n",
       "        0.0076, 0.0067, 0.0065, 0.0111, 0.0179, 0.0185, 0.0131, 0.0093, 0.0180,\n",
       "        0.0183, 0.0176], dtype=torch.float64)"
      ]
     },
     "execution_count": 18,
     "metadata": {},
     "output_type": "execute_result"
    }
   ],
   "source": [
    "weights"
   ]
  },
  {
   "cell_type": "code",
   "execution_count": 19,
   "id": "5ef291a8-e40e-432b-bef7-0fcfed363546",
   "metadata": {},
   "outputs": [],
   "source": [
    "model = timm.create_model('resnet50', pretrained=True, num_classes=137)\n",
    "init_model(model, initialize=False, freeze_backbone=False)\n",
    "learner = TrainLearner(model, dls=dls, loss_func=torch.nn.CrossEntropyLoss(), cbs=cbs+[RegularizerCB(alpha=1e-4)], opt_func=torch.optim.Adam)"
   ]
  },
  {
   "cell_type": "code",
   "execution_count": 20,
   "id": "e68a0458-2387-43fa-81bd-203c7c1a9c27",
   "metadata": {},
   "outputs": [
    {
     "data": {
      "text/html": [
       "\n",
       "<style>\n",
       "    /* Turns off some styling */\n",
       "    progress {\n",
       "        /* gets rid of default border in Firefox and Opera. */\n",
       "        border: none;\n",
       "        /* Needs to be in here for Safari polyfill so background images work as expected. */\n",
       "        background-size: auto;\n",
       "    }\n",
       "    progress:not([value]), progress:not([value])::-webkit-progress-bar {\n",
       "        background: repeating-linear-gradient(45deg, #7e7e7e, #7e7e7e 10px, #5c5c5c 10px, #5c5c5c 20px);\n",
       "    }\n",
       "    .progress-bar-interrupted, .progress-bar-interrupted::-webkit-progress-bar {\n",
       "        background: #F44336;\n",
       "    }\n",
       "</style>\n"
      ],
      "text/plain": [
       "<IPython.core.display.HTML object>"
      ]
     },
     "metadata": {},
     "output_type": "display_data"
    },
    {
     "data": {
      "text/html": [
       "<table border=\"1\" class=\"dataframe\">\n",
       "  <thead>\n",
       "    <tr style=\"text-align: left;\">\n",
       "      <th>accuracy</th>\n",
       "      <th>loss</th>\n",
       "      <th>epoch</th>\n",
       "      <th>train</th>\n",
       "    </tr>\n",
       "  </thead>\n",
       "  <tbody>\n",
       "    <tr>\n",
       "      <td>0.370</td>\n",
       "      <td>104.686</td>\n",
       "      <td>0</td>\n",
       "      <td>train</td>\n",
       "    </tr>\n",
       "    <tr>\n",
       "      <td>0.664</td>\n",
       "      <td>87.791</td>\n",
       "      <td>0</td>\n",
       "      <td>eval</td>\n",
       "    </tr>\n",
       "    <tr>\n",
       "      <td>0.753</td>\n",
       "      <td>77.656</td>\n",
       "      <td>1</td>\n",
       "      <td>train</td>\n",
       "    </tr>\n",
       "    <tr>\n",
       "      <td>0.730</td>\n",
       "      <td>68.868</td>\n",
       "      <td>1</td>\n",
       "      <td>eval</td>\n",
       "    </tr>\n",
       "    <tr>\n",
       "      <td>0.832</td>\n",
       "      <td>62.086</td>\n",
       "      <td>2</td>\n",
       "      <td>train</td>\n",
       "    </tr>\n",
       "    <tr>\n",
       "      <td>0.708</td>\n",
       "      <td>56.626</td>\n",
       "      <td>2</td>\n",
       "      <td>eval</td>\n",
       "    </tr>\n",
       "    <tr>\n",
       "      <td>0.859</td>\n",
       "      <td>51.630</td>\n",
       "      <td>3</td>\n",
       "      <td>train</td>\n",
       "    </tr>\n",
       "    <tr>\n",
       "      <td>0.727</td>\n",
       "      <td>48.095</td>\n",
       "      <td>3</td>\n",
       "      <td>eval</td>\n",
       "    </tr>\n",
       "    <tr>\n",
       "      <td>0.877</td>\n",
       "      <td>44.197</td>\n",
       "      <td>4</td>\n",
       "      <td>train</td>\n",
       "    </tr>\n",
       "    <tr>\n",
       "      <td>0.677</td>\n",
       "      <td>41.885</td>\n",
       "      <td>4</td>\n",
       "      <td>eval</td>\n",
       "    </tr>\n",
       "    <tr>\n",
       "      <td>0.895</td>\n",
       "      <td>38.641</td>\n",
       "      <td>5</td>\n",
       "      <td>train</td>\n",
       "    </tr>\n",
       "    <tr>\n",
       "      <td>0.670</td>\n",
       "      <td>37.166</td>\n",
       "      <td>5</td>\n",
       "      <td>eval</td>\n",
       "    </tr>\n",
       "    <tr>\n",
       "      <td>0.899</td>\n",
       "      <td>34.400</td>\n",
       "      <td>6</td>\n",
       "      <td>train</td>\n",
       "    </tr>\n",
       "    <tr>\n",
       "      <td>0.679</td>\n",
       "      <td>33.549</td>\n",
       "      <td>6</td>\n",
       "      <td>eval</td>\n",
       "    </tr>\n",
       "    <tr>\n",
       "      <td>0.898</td>\n",
       "      <td>31.080</td>\n",
       "      <td>7</td>\n",
       "      <td>train</td>\n",
       "    </tr>\n",
       "    <tr>\n",
       "      <td>0.662</td>\n",
       "      <td>30.747</td>\n",
       "      <td>7</td>\n",
       "      <td>eval</td>\n",
       "    </tr>\n",
       "    <tr>\n",
       "      <td>0.899</td>\n",
       "      <td>28.408</td>\n",
       "      <td>8</td>\n",
       "      <td>train</td>\n",
       "    </tr>\n",
       "    <tr>\n",
       "      <td>0.721</td>\n",
       "      <td>28.023</td>\n",
       "      <td>8</td>\n",
       "      <td>eval</td>\n",
       "    </tr>\n",
       "    <tr>\n",
       "      <td>0.910</td>\n",
       "      <td>26.130</td>\n",
       "      <td>9</td>\n",
       "      <td>train</td>\n",
       "    </tr>\n",
       "    <tr>\n",
       "      <td>0.646</td>\n",
       "      <td>26.359</td>\n",
       "      <td>9</td>\n",
       "      <td>eval</td>\n",
       "    </tr>\n",
       "    <tr>\n",
       "      <td>0.913</td>\n",
       "      <td>24.225</td>\n",
       "      <td>10</td>\n",
       "      <td>train</td>\n",
       "    </tr>\n",
       "    <tr>\n",
       "      <td>0.600</td>\n",
       "      <td>24.875</td>\n",
       "      <td>10</td>\n",
       "      <td>eval</td>\n",
       "    </tr>\n",
       "    <tr>\n",
       "      <td>0.918</td>\n",
       "      <td>22.579</td>\n",
       "      <td>11</td>\n",
       "      <td>train</td>\n",
       "    </tr>\n",
       "    <tr>\n",
       "      <td>0.633</td>\n",
       "      <td>22.959</td>\n",
       "      <td>11</td>\n",
       "      <td>eval</td>\n",
       "    </tr>\n",
       "    <tr>\n",
       "      <td>0.906</td>\n",
       "      <td>21.218</td>\n",
       "      <td>12</td>\n",
       "      <td>train</td>\n",
       "    </tr>\n",
       "    <tr>\n",
       "      <td>0.648</td>\n",
       "      <td>21.714</td>\n",
       "      <td>12</td>\n",
       "      <td>eval</td>\n",
       "    </tr>\n",
       "    <tr>\n",
       "      <td>0.913</td>\n",
       "      <td>19.950</td>\n",
       "      <td>13</td>\n",
       "      <td>train</td>\n",
       "    </tr>\n",
       "    <tr>\n",
       "      <td>0.629</td>\n",
       "      <td>20.572</td>\n",
       "      <td>13</td>\n",
       "      <td>eval</td>\n",
       "    </tr>\n",
       "    <tr>\n",
       "      <td>0.918</td>\n",
       "      <td>18.825</td>\n",
       "      <td>14</td>\n",
       "      <td>train</td>\n",
       "    </tr>\n",
       "    <tr>\n",
       "      <td>0.624</td>\n",
       "      <td>19.622</td>\n",
       "      <td>14</td>\n",
       "      <td>eval</td>\n",
       "    </tr>\n",
       "    <tr>\n",
       "      <td>0.924</td>\n",
       "      <td>17.810</td>\n",
       "      <td>15</td>\n",
       "      <td>train</td>\n",
       "    </tr>\n",
       "    <tr>\n",
       "      <td>0.620</td>\n",
       "      <td>18.794</td>\n",
       "      <td>15</td>\n",
       "      <td>eval</td>\n",
       "    </tr>\n",
       "    <tr>\n",
       "      <td>0.929</td>\n",
       "      <td>16.884</td>\n",
       "      <td>16</td>\n",
       "      <td>train</td>\n",
       "    </tr>\n",
       "    <tr>\n",
       "      <td>0.602</td>\n",
       "      <td>17.981</td>\n",
       "      <td>16</td>\n",
       "      <td>eval</td>\n",
       "    </tr>\n",
       "    <tr>\n",
       "      <td>0.918</td>\n",
       "      <td>16.086</td>\n",
       "      <td>17</td>\n",
       "      <td>train</td>\n",
       "    </tr>\n",
       "    <tr>\n",
       "      <td>0.560</td>\n",
       "      <td>17.282</td>\n",
       "      <td>17</td>\n",
       "      <td>eval</td>\n",
       "    </tr>\n",
       "    <tr>\n",
       "      <td>0.915</td>\n",
       "      <td>15.393</td>\n",
       "      <td>18</td>\n",
       "      <td>train</td>\n",
       "    </tr>\n",
       "    <tr>\n",
       "      <td>0.646</td>\n",
       "      <td>16.313</td>\n",
       "      <td>18</td>\n",
       "      <td>eval</td>\n",
       "    </tr>\n",
       "    <tr>\n",
       "      <td>0.924</td>\n",
       "      <td>14.654</td>\n",
       "      <td>19</td>\n",
       "      <td>train</td>\n",
       "    </tr>\n",
       "    <tr>\n",
       "      <td>0.640</td>\n",
       "      <td>15.494</td>\n",
       "      <td>19</td>\n",
       "      <td>eval</td>\n",
       "    </tr>\n",
       "  </tbody>\n",
       "</table>"
      ],
      "text/plain": [
       "<IPython.core.display.HTML object>"
      ]
     },
     "metadata": {},
     "output_type": "display_data"
    },
    {
     "data": {
      "image/png": "[encoded data removed]",
      "text/plain": [
       "<Figure size 600x400 with 1 Axes>"
      ]
     },
     "metadata": {},
     "output_type": "display_data"
    }
   ],
   "source": [
    "learner.fit(n_epochs=20, lr=0.001)"
   ]
  },
  {
   "cell_type": "code",
   "execution_count": 21,
   "id": "9b856e08-c3f3-4aab-b48e-2f20315a5b44",
   "metadata": {},
   "outputs": [],
   "source": [
    "torch.save(model.state_dict(), 'resnet50_reg_1e-4.pt')"
   ]
  },
  {
   "cell_type": "code",
   "execution_count": null,
   "id": "1d06a6a6-5b91-4dff-9fbd-55bdba6cf81d",
   "metadata": {},
   "outputs": [],
   "source": []
  },
  {
   "cell_type": "code",
   "execution_count": null,
   "id": "27ad09ea-f180-4233-ab9f-0df7546555f9",
   "metadata": {},
   "outputs": [],
   "source": []
  },
  {
   "cell_type": "code",
   "execution_count": 172,
   "id": "cf55e6e0-5816-4b21-a255-0ea7e2e951ea",
   "metadata": {},
   "outputs": [
    {
     "name": "stdout",
     "output_type": "stream",
     "text": [
      "mps\n"
     ]
    }
   ],
   "source": [
    "print(DeviceCB().device)"
   ]
  },
  {
   "cell_type": "code",
   "execution_count": 30,
   "id": "c610849d-9630-48fa-8da8-3f4a959b881d",
   "metadata": {},
   "outputs": [],
   "source": [
    "#| hide\n",
    "import nbdev; nbdev.nbdev_export()"
   ]
  },
  {
   "cell_type": "code",
   "execution_count": null,
   "id": "bffa5a82-c805-403d-8dee-2a3f3a327a9d",
   "metadata": {},
   "outputs": [],
   "source": []
  }
 ],
 "metadata": {
  "kernelspec": {
   "display_name": "Python 3 (ipykernel)",
   "language": "python",
   "name": "python3"
  },
  "language_info": {
   "codemirror_mode": {
    "name": "ipython",
    "version": 3
   },
   "file_extension": ".py",
   "mimetype": "text/x-python",
   "name": "python",
   "nbconvert_exporter": "python",
   "pygments_lexer": "ipython3",
   "version": "3.10.13"
  }
 },
 "nbformat": 4,
 "nbformat_minor": 5
}
